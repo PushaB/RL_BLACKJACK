{
  "nbformat": 4,
  "nbformat_minor": 0,
  "metadata": {
    "kernelspec": {
      "display_name": "Python 3",
      "language": "python",
      "name": "python3"
    },
    "language_info": {
      "codemirror_mode": {
        "name": "ipython",
        "version": 3
      },
      "file_extension": ".py",
      "mimetype": "text/x-python",
      "name": "python",
      "nbconvert_exporter": "python",
      "pygments_lexer": "ipython3",
      "version": "3.8.6"
    },
    "colab": {
      "name": "Blackjack.ipynb",
      "provenance": [],
      "collapsed_sections": [
        "yiQf9OUTAWon",
        "-E3zXrstAZu0",
        "Yf1bAJqdF_h2",
        "jGMBjo89Y8Xm"
      ]
    },
    "widgets": {
      "application/vnd.jupyter.widget-state+json": {
        "e80966575f604c6580f35f7c4d8b37fd": {
          "model_module": "@jupyter-widgets/controls",
          "model_name": "HBoxModel",
          "state": {
            "_view_name": "HBoxView",
            "_dom_classes": [],
            "_model_name": "HBoxModel",
            "_view_module": "@jupyter-widgets/controls",
            "_model_module_version": "1.5.0",
            "_view_count": null,
            "_view_module_version": "1.5.0",
            "box_style": "",
            "layout": "IPY_MODEL_4cb3cde1abb54db29cffc13e246831ef",
            "_model_module": "@jupyter-widgets/controls",
            "children": [
              "IPY_MODEL_aa43d57a48cd4b0f9bcbb832cf2f7dee",
              "IPY_MODEL_2e85edbef1ac4b18b053f7d07dcda814"
            ]
          }
        },
        "4cb3cde1abb54db29cffc13e246831ef": {
          "model_module": "@jupyter-widgets/base",
          "model_name": "LayoutModel",
          "state": {
            "_view_name": "LayoutView",
            "grid_template_rows": null,
            "right": null,
            "justify_content": null,
            "_view_module": "@jupyter-widgets/base",
            "overflow": null,
            "_model_module_version": "1.2.0",
            "_view_count": null,
            "flex_flow": null,
            "width": null,
            "min_width": null,
            "border": null,
            "align_items": null,
            "bottom": null,
            "_model_module": "@jupyter-widgets/base",
            "top": null,
            "grid_column": null,
            "overflow_y": null,
            "overflow_x": null,
            "grid_auto_flow": null,
            "grid_area": null,
            "grid_template_columns": null,
            "flex": null,
            "_model_name": "LayoutModel",
            "justify_items": null,
            "grid_row": null,
            "max_height": null,
            "align_content": null,
            "visibility": null,
            "align_self": null,
            "height": null,
            "min_height": null,
            "padding": null,
            "grid_auto_rows": null,
            "grid_gap": null,
            "max_width": null,
            "order": null,
            "_view_module_version": "1.2.0",
            "grid_template_areas": null,
            "object_position": null,
            "object_fit": null,
            "grid_auto_columns": null,
            "margin": null,
            "display": null,
            "left": null
          }
        },
        "aa43d57a48cd4b0f9bcbb832cf2f7dee": {
          "model_module": "@jupyter-widgets/controls",
          "model_name": "FloatProgressModel",
          "state": {
            "_view_name": "ProgressView",
            "style": "IPY_MODEL_1d2ec16e599f4369afb663ecf2747960",
            "_dom_classes": [],
            "description": "100%",
            "_model_name": "FloatProgressModel",
            "bar_style": "success",
            "max": 100000,
            "_view_module": "@jupyter-widgets/controls",
            "_model_module_version": "1.5.0",
            "value": 100000,
            "_view_count": null,
            "_view_module_version": "1.5.0",
            "orientation": "horizontal",
            "min": 0,
            "description_tooltip": null,
            "_model_module": "@jupyter-widgets/controls",
            "layout": "IPY_MODEL_3ec4ad0f34814826a4c4ff6f2d2defd9"
          }
        },
        "2e85edbef1ac4b18b053f7d07dcda814": {
          "model_module": "@jupyter-widgets/controls",
          "model_name": "HTMLModel",
          "state": {
            "_view_name": "HTMLView",
            "style": "IPY_MODEL_919c971dda4a400891d286eda96a068b",
            "_dom_classes": [],
            "description": "",
            "_model_name": "HTMLModel",
            "placeholder": "​",
            "_view_module": "@jupyter-widgets/controls",
            "_model_module_version": "1.5.0",
            "value": " 100000/100000 [04:22&lt;00:00, 380.97it/s]",
            "_view_count": null,
            "_view_module_version": "1.5.0",
            "description_tooltip": null,
            "_model_module": "@jupyter-widgets/controls",
            "layout": "IPY_MODEL_8f34875104e946cb98f7766af3219347"
          }
        },
        "1d2ec16e599f4369afb663ecf2747960": {
          "model_module": "@jupyter-widgets/controls",
          "model_name": "ProgressStyleModel",
          "state": {
            "_view_name": "StyleView",
            "_model_name": "ProgressStyleModel",
            "description_width": "initial",
            "_view_module": "@jupyter-widgets/base",
            "_model_module_version": "1.5.0",
            "_view_count": null,
            "_view_module_version": "1.2.0",
            "bar_color": null,
            "_model_module": "@jupyter-widgets/controls"
          }
        },
        "3ec4ad0f34814826a4c4ff6f2d2defd9": {
          "model_module": "@jupyter-widgets/base",
          "model_name": "LayoutModel",
          "state": {
            "_view_name": "LayoutView",
            "grid_template_rows": null,
            "right": null,
            "justify_content": null,
            "_view_module": "@jupyter-widgets/base",
            "overflow": null,
            "_model_module_version": "1.2.0",
            "_view_count": null,
            "flex_flow": null,
            "width": null,
            "min_width": null,
            "border": null,
            "align_items": null,
            "bottom": null,
            "_model_module": "@jupyter-widgets/base",
            "top": null,
            "grid_column": null,
            "overflow_y": null,
            "overflow_x": null,
            "grid_auto_flow": null,
            "grid_area": null,
            "grid_template_columns": null,
            "flex": null,
            "_model_name": "LayoutModel",
            "justify_items": null,
            "grid_row": null,
            "max_height": null,
            "align_content": null,
            "visibility": null,
            "align_self": null,
            "height": null,
            "min_height": null,
            "padding": null,
            "grid_auto_rows": null,
            "grid_gap": null,
            "max_width": null,
            "order": null,
            "_view_module_version": "1.2.0",
            "grid_template_areas": null,
            "object_position": null,
            "object_fit": null,
            "grid_auto_columns": null,
            "margin": null,
            "display": null,
            "left": null
          }
        },
        "919c971dda4a400891d286eda96a068b": {
          "model_module": "@jupyter-widgets/controls",
          "model_name": "DescriptionStyleModel",
          "state": {
            "_view_name": "StyleView",
            "_model_name": "DescriptionStyleModel",
            "description_width": "",
            "_view_module": "@jupyter-widgets/base",
            "_model_module_version": "1.5.0",
            "_view_count": null,
            "_view_module_version": "1.2.0",
            "_model_module": "@jupyter-widgets/controls"
          }
        },
        "8f34875104e946cb98f7766af3219347": {
          "model_module": "@jupyter-widgets/base",
          "model_name": "LayoutModel",
          "state": {
            "_view_name": "LayoutView",
            "grid_template_rows": null,
            "right": null,
            "justify_content": null,
            "_view_module": "@jupyter-widgets/base",
            "overflow": null,
            "_model_module_version": "1.2.0",
            "_view_count": null,
            "flex_flow": null,
            "width": null,
            "min_width": null,
            "border": null,
            "align_items": null,
            "bottom": null,
            "_model_module": "@jupyter-widgets/base",
            "top": null,
            "grid_column": null,
            "overflow_y": null,
            "overflow_x": null,
            "grid_auto_flow": null,
            "grid_area": null,
            "grid_template_columns": null,
            "flex": null,
            "_model_name": "LayoutModel",
            "justify_items": null,
            "grid_row": null,
            "max_height": null,
            "align_content": null,
            "visibility": null,
            "align_self": null,
            "height": null,
            "min_height": null,
            "padding": null,
            "grid_auto_rows": null,
            "grid_gap": null,
            "max_width": null,
            "order": null,
            "_view_module_version": "1.2.0",
            "grid_template_areas": null,
            "object_position": null,
            "object_fit": null,
            "grid_auto_columns": null,
            "margin": null,
            "display": null,
            "left": null
          }
        },
        "1adf9b74b6ca445c99ab155e662a1d44": {
          "model_module": "@jupyter-widgets/controls",
          "model_name": "HBoxModel",
          "state": {
            "_view_name": "HBoxView",
            "_dom_classes": [],
            "_model_name": "HBoxModel",
            "_view_module": "@jupyter-widgets/controls",
            "_model_module_version": "1.5.0",
            "_view_count": null,
            "_view_module_version": "1.5.0",
            "box_style": "",
            "layout": "IPY_MODEL_1c297dd9490a4825a9bd21e1c68cf8ff",
            "_model_module": "@jupyter-widgets/controls",
            "children": [
              "IPY_MODEL_8c123cbda236416d99a9d2bb6cc5c6f4",
              "IPY_MODEL_f77ab3dc5b1445a693cda27805b4e587"
            ]
          }
        },
        "1c297dd9490a4825a9bd21e1c68cf8ff": {
          "model_module": "@jupyter-widgets/base",
          "model_name": "LayoutModel",
          "state": {
            "_view_name": "LayoutView",
            "grid_template_rows": null,
            "right": null,
            "justify_content": null,
            "_view_module": "@jupyter-widgets/base",
            "overflow": null,
            "_model_module_version": "1.2.0",
            "_view_count": null,
            "flex_flow": null,
            "width": null,
            "min_width": null,
            "border": null,
            "align_items": null,
            "bottom": null,
            "_model_module": "@jupyter-widgets/base",
            "top": null,
            "grid_column": null,
            "overflow_y": null,
            "overflow_x": null,
            "grid_auto_flow": null,
            "grid_area": null,
            "grid_template_columns": null,
            "flex": null,
            "_model_name": "LayoutModel",
            "justify_items": null,
            "grid_row": null,
            "max_height": null,
            "align_content": null,
            "visibility": null,
            "align_self": null,
            "height": null,
            "min_height": null,
            "padding": null,
            "grid_auto_rows": null,
            "grid_gap": null,
            "max_width": null,
            "order": null,
            "_view_module_version": "1.2.0",
            "grid_template_areas": null,
            "object_position": null,
            "object_fit": null,
            "grid_auto_columns": null,
            "margin": null,
            "display": null,
            "left": null
          }
        },
        "8c123cbda236416d99a9d2bb6cc5c6f4": {
          "model_module": "@jupyter-widgets/controls",
          "model_name": "FloatProgressModel",
          "state": {
            "_view_name": "ProgressView",
            "style": "IPY_MODEL_568d45bab7b74111a2cb7beade1bdfcc",
            "_dom_classes": [],
            "description": "100%",
            "_model_name": "FloatProgressModel",
            "bar_style": "success",
            "max": 1000000,
            "_view_module": "@jupyter-widgets/controls",
            "_model_module_version": "1.5.0",
            "value": 1000000,
            "_view_count": null,
            "_view_module_version": "1.5.0",
            "orientation": "horizontal",
            "min": 0,
            "description_tooltip": null,
            "_model_module": "@jupyter-widgets/controls",
            "layout": "IPY_MODEL_5232107e989340329e2d7721f530a0b3"
          }
        },
        "f77ab3dc5b1445a693cda27805b4e587": {
          "model_module": "@jupyter-widgets/controls",
          "model_name": "HTMLModel",
          "state": {
            "_view_name": "HTMLView",
            "style": "IPY_MODEL_c8c0ef036c554cabb1e41472dedb487c",
            "_dom_classes": [],
            "description": "",
            "_model_name": "HTMLModel",
            "placeholder": "​",
            "_view_module": "@jupyter-widgets/controls",
            "_model_module_version": "1.5.0",
            "value": " 1000000/1000000 [02:47&lt;00:00, 5953.50it/s]",
            "_view_count": null,
            "_view_module_version": "1.5.0",
            "description_tooltip": null,
            "_model_module": "@jupyter-widgets/controls",
            "layout": "IPY_MODEL_fa24e093c8314aceb8236ac09b41b1f6"
          }
        },
        "568d45bab7b74111a2cb7beade1bdfcc": {
          "model_module": "@jupyter-widgets/controls",
          "model_name": "ProgressStyleModel",
          "state": {
            "_view_name": "StyleView",
            "_model_name": "ProgressStyleModel",
            "description_width": "initial",
            "_view_module": "@jupyter-widgets/base",
            "_model_module_version": "1.5.0",
            "_view_count": null,
            "_view_module_version": "1.2.0",
            "bar_color": null,
            "_model_module": "@jupyter-widgets/controls"
          }
        },
        "5232107e989340329e2d7721f530a0b3": {
          "model_module": "@jupyter-widgets/base",
          "model_name": "LayoutModel",
          "state": {
            "_view_name": "LayoutView",
            "grid_template_rows": null,
            "right": null,
            "justify_content": null,
            "_view_module": "@jupyter-widgets/base",
            "overflow": null,
            "_model_module_version": "1.2.0",
            "_view_count": null,
            "flex_flow": null,
            "width": null,
            "min_width": null,
            "border": null,
            "align_items": null,
            "bottom": null,
            "_model_module": "@jupyter-widgets/base",
            "top": null,
            "grid_column": null,
            "overflow_y": null,
            "overflow_x": null,
            "grid_auto_flow": null,
            "grid_area": null,
            "grid_template_columns": null,
            "flex": null,
            "_model_name": "LayoutModel",
            "justify_items": null,
            "grid_row": null,
            "max_height": null,
            "align_content": null,
            "visibility": null,
            "align_self": null,
            "height": null,
            "min_height": null,
            "padding": null,
            "grid_auto_rows": null,
            "grid_gap": null,
            "max_width": null,
            "order": null,
            "_view_module_version": "1.2.0",
            "grid_template_areas": null,
            "object_position": null,
            "object_fit": null,
            "grid_auto_columns": null,
            "margin": null,
            "display": null,
            "left": null
          }
        },
        "c8c0ef036c554cabb1e41472dedb487c": {
          "model_module": "@jupyter-widgets/controls",
          "model_name": "DescriptionStyleModel",
          "state": {
            "_view_name": "StyleView",
            "_model_name": "DescriptionStyleModel",
            "description_width": "",
            "_view_module": "@jupyter-widgets/base",
            "_model_module_version": "1.5.0",
            "_view_count": null,
            "_view_module_version": "1.2.0",
            "_model_module": "@jupyter-widgets/controls"
          }
        },
        "fa24e093c8314aceb8236ac09b41b1f6": {
          "model_module": "@jupyter-widgets/base",
          "model_name": "LayoutModel",
          "state": {
            "_view_name": "LayoutView",
            "grid_template_rows": null,
            "right": null,
            "justify_content": null,
            "_view_module": "@jupyter-widgets/base",
            "overflow": null,
            "_model_module_version": "1.2.0",
            "_view_count": null,
            "flex_flow": null,
            "width": null,
            "min_width": null,
            "border": null,
            "align_items": null,
            "bottom": null,
            "_model_module": "@jupyter-widgets/base",
            "top": null,
            "grid_column": null,
            "overflow_y": null,
            "overflow_x": null,
            "grid_auto_flow": null,
            "grid_area": null,
            "grid_template_columns": null,
            "flex": null,
            "_model_name": "LayoutModel",
            "justify_items": null,
            "grid_row": null,
            "max_height": null,
            "align_content": null,
            "visibility": null,
            "align_self": null,
            "height": null,
            "min_height": null,
            "padding": null,
            "grid_auto_rows": null,
            "grid_gap": null,
            "max_width": null,
            "order": null,
            "_view_module_version": "1.2.0",
            "grid_template_areas": null,
            "object_position": null,
            "object_fit": null,
            "grid_auto_columns": null,
            "margin": null,
            "display": null,
            "left": null
          }
        },
        "0e5a6f381e874607b1127c8537a261d5": {
          "model_module": "@jupyter-widgets/controls",
          "model_name": "HBoxModel",
          "state": {
            "_view_name": "HBoxView",
            "_dom_classes": [],
            "_model_name": "HBoxModel",
            "_view_module": "@jupyter-widgets/controls",
            "_model_module_version": "1.5.0",
            "_view_count": null,
            "_view_module_version": "1.5.0",
            "box_style": "",
            "layout": "IPY_MODEL_40436d28196d42c7b6b5b1485997a2b6",
            "_model_module": "@jupyter-widgets/controls",
            "children": [
              "IPY_MODEL_e956bfe6849d424ba456123165ddc567",
              "IPY_MODEL_e0f75fc73eca4e7eae1156c30a321f3a"
            ]
          }
        },
        "40436d28196d42c7b6b5b1485997a2b6": {
          "model_module": "@jupyter-widgets/base",
          "model_name": "LayoutModel",
          "state": {
            "_view_name": "LayoutView",
            "grid_template_rows": null,
            "right": null,
            "justify_content": null,
            "_view_module": "@jupyter-widgets/base",
            "overflow": null,
            "_model_module_version": "1.2.0",
            "_view_count": null,
            "flex_flow": null,
            "width": null,
            "min_width": null,
            "border": null,
            "align_items": null,
            "bottom": null,
            "_model_module": "@jupyter-widgets/base",
            "top": null,
            "grid_column": null,
            "overflow_y": null,
            "overflow_x": null,
            "grid_auto_flow": null,
            "grid_area": null,
            "grid_template_columns": null,
            "flex": null,
            "_model_name": "LayoutModel",
            "justify_items": null,
            "grid_row": null,
            "max_height": null,
            "align_content": null,
            "visibility": null,
            "align_self": null,
            "height": null,
            "min_height": null,
            "padding": null,
            "grid_auto_rows": null,
            "grid_gap": null,
            "max_width": null,
            "order": null,
            "_view_module_version": "1.2.0",
            "grid_template_areas": null,
            "object_position": null,
            "object_fit": null,
            "grid_auto_columns": null,
            "margin": null,
            "display": null,
            "left": null
          }
        },
        "e956bfe6849d424ba456123165ddc567": {
          "model_module": "@jupyter-widgets/controls",
          "model_name": "FloatProgressModel",
          "state": {
            "_view_name": "ProgressView",
            "style": "IPY_MODEL_5874549fafa448fdae30a1506bb8f25d",
            "_dom_classes": [],
            "description": "100%",
            "_model_name": "FloatProgressModel",
            "bar_style": "success",
            "max": 1000000,
            "_view_module": "@jupyter-widgets/controls",
            "_model_module_version": "1.5.0",
            "value": 1000000,
            "_view_count": null,
            "_view_module_version": "1.5.0",
            "orientation": "horizontal",
            "min": 0,
            "description_tooltip": null,
            "_model_module": "@jupyter-widgets/controls",
            "layout": "IPY_MODEL_1bf50345b63348a185922a0e513861df"
          }
        },
        "e0f75fc73eca4e7eae1156c30a321f3a": {
          "model_module": "@jupyter-widgets/controls",
          "model_name": "HTMLModel",
          "state": {
            "_view_name": "HTMLView",
            "style": "IPY_MODEL_5fa02a19ccdf44f5a3523d4e8e9427fa",
            "_dom_classes": [],
            "description": "",
            "_model_name": "HTMLModel",
            "placeholder": "​",
            "_view_module": "@jupyter-widgets/controls",
            "_model_module_version": "1.5.0",
            "value": " 1000000/1000000 [08:09&lt;00:00, 2044.03it/s]",
            "_view_count": null,
            "_view_module_version": "1.5.0",
            "description_tooltip": null,
            "_model_module": "@jupyter-widgets/controls",
            "layout": "IPY_MODEL_13582ac0949842df8d20c2cd097944a0"
          }
        },
        "5874549fafa448fdae30a1506bb8f25d": {
          "model_module": "@jupyter-widgets/controls",
          "model_name": "ProgressStyleModel",
          "state": {
            "_view_name": "StyleView",
            "_model_name": "ProgressStyleModel",
            "description_width": "initial",
            "_view_module": "@jupyter-widgets/base",
            "_model_module_version": "1.5.0",
            "_view_count": null,
            "_view_module_version": "1.2.0",
            "bar_color": null,
            "_model_module": "@jupyter-widgets/controls"
          }
        },
        "1bf50345b63348a185922a0e513861df": {
          "model_module": "@jupyter-widgets/base",
          "model_name": "LayoutModel",
          "state": {
            "_view_name": "LayoutView",
            "grid_template_rows": null,
            "right": null,
            "justify_content": null,
            "_view_module": "@jupyter-widgets/base",
            "overflow": null,
            "_model_module_version": "1.2.0",
            "_view_count": null,
            "flex_flow": null,
            "width": null,
            "min_width": null,
            "border": null,
            "align_items": null,
            "bottom": null,
            "_model_module": "@jupyter-widgets/base",
            "top": null,
            "grid_column": null,
            "overflow_y": null,
            "overflow_x": null,
            "grid_auto_flow": null,
            "grid_area": null,
            "grid_template_columns": null,
            "flex": null,
            "_model_name": "LayoutModel",
            "justify_items": null,
            "grid_row": null,
            "max_height": null,
            "align_content": null,
            "visibility": null,
            "align_self": null,
            "height": null,
            "min_height": null,
            "padding": null,
            "grid_auto_rows": null,
            "grid_gap": null,
            "max_width": null,
            "order": null,
            "_view_module_version": "1.2.0",
            "grid_template_areas": null,
            "object_position": null,
            "object_fit": null,
            "grid_auto_columns": null,
            "margin": null,
            "display": null,
            "left": null
          }
        },
        "5fa02a19ccdf44f5a3523d4e8e9427fa": {
          "model_module": "@jupyter-widgets/controls",
          "model_name": "DescriptionStyleModel",
          "state": {
            "_view_name": "StyleView",
            "_model_name": "DescriptionStyleModel",
            "description_width": "",
            "_view_module": "@jupyter-widgets/base",
            "_model_module_version": "1.5.0",
            "_view_count": null,
            "_view_module_version": "1.2.0",
            "_model_module": "@jupyter-widgets/controls"
          }
        },
        "13582ac0949842df8d20c2cd097944a0": {
          "model_module": "@jupyter-widgets/base",
          "model_name": "LayoutModel",
          "state": {
            "_view_name": "LayoutView",
            "grid_template_rows": null,
            "right": null,
            "justify_content": null,
            "_view_module": "@jupyter-widgets/base",
            "overflow": null,
            "_model_module_version": "1.2.0",
            "_view_count": null,
            "flex_flow": null,
            "width": null,
            "min_width": null,
            "border": null,
            "align_items": null,
            "bottom": null,
            "_model_module": "@jupyter-widgets/base",
            "top": null,
            "grid_column": null,
            "overflow_y": null,
            "overflow_x": null,
            "grid_auto_flow": null,
            "grid_area": null,
            "grid_template_columns": null,
            "flex": null,
            "_model_name": "LayoutModel",
            "justify_items": null,
            "grid_row": null,
            "max_height": null,
            "align_content": null,
            "visibility": null,
            "align_self": null,
            "height": null,
            "min_height": null,
            "padding": null,
            "grid_auto_rows": null,
            "grid_gap": null,
            "max_width": null,
            "order": null,
            "_view_module_version": "1.2.0",
            "grid_template_areas": null,
            "object_position": null,
            "object_fit": null,
            "grid_auto_columns": null,
            "margin": null,
            "display": null,
            "left": null
          }
        },
        "fc2f18c0bf6d4fe6869864f20d5f82ee": {
          "model_module": "@jupyter-widgets/controls",
          "model_name": "HBoxModel",
          "state": {
            "_view_name": "HBoxView",
            "_dom_classes": [],
            "_model_name": "HBoxModel",
            "_view_module": "@jupyter-widgets/controls",
            "_model_module_version": "1.5.0",
            "_view_count": null,
            "_view_module_version": "1.5.0",
            "box_style": "",
            "layout": "IPY_MODEL_279b594752c542b0a30ebf3627e8f23a",
            "_model_module": "@jupyter-widgets/controls",
            "children": [
              "IPY_MODEL_cd0ce6cc278341a089c4dd02331f2053",
              "IPY_MODEL_1ce3b9e47eac4cd98291ace4b816d9f1"
            ]
          }
        },
        "279b594752c542b0a30ebf3627e8f23a": {
          "model_module": "@jupyter-widgets/base",
          "model_name": "LayoutModel",
          "state": {
            "_view_name": "LayoutView",
            "grid_template_rows": null,
            "right": null,
            "justify_content": null,
            "_view_module": "@jupyter-widgets/base",
            "overflow": null,
            "_model_module_version": "1.2.0",
            "_view_count": null,
            "flex_flow": null,
            "width": null,
            "min_width": null,
            "border": null,
            "align_items": null,
            "bottom": null,
            "_model_module": "@jupyter-widgets/base",
            "top": null,
            "grid_column": null,
            "overflow_y": null,
            "overflow_x": null,
            "grid_auto_flow": null,
            "grid_area": null,
            "grid_template_columns": null,
            "flex": null,
            "_model_name": "LayoutModel",
            "justify_items": null,
            "grid_row": null,
            "max_height": null,
            "align_content": null,
            "visibility": null,
            "align_self": null,
            "height": null,
            "min_height": null,
            "padding": null,
            "grid_auto_rows": null,
            "grid_gap": null,
            "max_width": null,
            "order": null,
            "_view_module_version": "1.2.0",
            "grid_template_areas": null,
            "object_position": null,
            "object_fit": null,
            "grid_auto_columns": null,
            "margin": null,
            "display": null,
            "left": null
          }
        },
        "cd0ce6cc278341a089c4dd02331f2053": {
          "model_module": "@jupyter-widgets/controls",
          "model_name": "FloatProgressModel",
          "state": {
            "_view_name": "ProgressView",
            "style": "IPY_MODEL_834a2602e5a244cebb79415b7a0c5f43",
            "_dom_classes": [],
            "description": "100%",
            "_model_name": "FloatProgressModel",
            "bar_style": "success",
            "max": 1000000,
            "_view_module": "@jupyter-widgets/controls",
            "_model_module_version": "1.5.0",
            "value": 1000000,
            "_view_count": null,
            "_view_module_version": "1.5.0",
            "orientation": "horizontal",
            "min": 0,
            "description_tooltip": null,
            "_model_module": "@jupyter-widgets/controls",
            "layout": "IPY_MODEL_4df26d0ca242457bb4055a1daa1bcafd"
          }
        },
        "1ce3b9e47eac4cd98291ace4b816d9f1": {
          "model_module": "@jupyter-widgets/controls",
          "model_name": "HTMLModel",
          "state": {
            "_view_name": "HTMLView",
            "style": "IPY_MODEL_8e80ae7c02114e69b907b57412cb0216",
            "_dom_classes": [],
            "description": "",
            "_model_name": "HTMLModel",
            "placeholder": "​",
            "_view_module": "@jupyter-widgets/controls",
            "_model_module_version": "1.5.0",
            "value": " 1000000/1000000 [05:25&lt;00:00, 3070.26it/s]",
            "_view_count": null,
            "_view_module_version": "1.5.0",
            "description_tooltip": null,
            "_model_module": "@jupyter-widgets/controls",
            "layout": "IPY_MODEL_7f28745bd0304277a241c6c2829675fe"
          }
        },
        "834a2602e5a244cebb79415b7a0c5f43": {
          "model_module": "@jupyter-widgets/controls",
          "model_name": "ProgressStyleModel",
          "state": {
            "_view_name": "StyleView",
            "_model_name": "ProgressStyleModel",
            "description_width": "initial",
            "_view_module": "@jupyter-widgets/base",
            "_model_module_version": "1.5.0",
            "_view_count": null,
            "_view_module_version": "1.2.0",
            "bar_color": null,
            "_model_module": "@jupyter-widgets/controls"
          }
        },
        "4df26d0ca242457bb4055a1daa1bcafd": {
          "model_module": "@jupyter-widgets/base",
          "model_name": "LayoutModel",
          "state": {
            "_view_name": "LayoutView",
            "grid_template_rows": null,
            "right": null,
            "justify_content": null,
            "_view_module": "@jupyter-widgets/base",
            "overflow": null,
            "_model_module_version": "1.2.0",
            "_view_count": null,
            "flex_flow": null,
            "width": null,
            "min_width": null,
            "border": null,
            "align_items": null,
            "bottom": null,
            "_model_module": "@jupyter-widgets/base",
            "top": null,
            "grid_column": null,
            "overflow_y": null,
            "overflow_x": null,
            "grid_auto_flow": null,
            "grid_area": null,
            "grid_template_columns": null,
            "flex": null,
            "_model_name": "LayoutModel",
            "justify_items": null,
            "grid_row": null,
            "max_height": null,
            "align_content": null,
            "visibility": null,
            "align_self": null,
            "height": null,
            "min_height": null,
            "padding": null,
            "grid_auto_rows": null,
            "grid_gap": null,
            "max_width": null,
            "order": null,
            "_view_module_version": "1.2.0",
            "grid_template_areas": null,
            "object_position": null,
            "object_fit": null,
            "grid_auto_columns": null,
            "margin": null,
            "display": null,
            "left": null
          }
        },
        "8e80ae7c02114e69b907b57412cb0216": {
          "model_module": "@jupyter-widgets/controls",
          "model_name": "DescriptionStyleModel",
          "state": {
            "_view_name": "StyleView",
            "_model_name": "DescriptionStyleModel",
            "description_width": "",
            "_view_module": "@jupyter-widgets/base",
            "_model_module_version": "1.5.0",
            "_view_count": null,
            "_view_module_version": "1.2.0",
            "_model_module": "@jupyter-widgets/controls"
          }
        },
        "7f28745bd0304277a241c6c2829675fe": {
          "model_module": "@jupyter-widgets/base",
          "model_name": "LayoutModel",
          "state": {
            "_view_name": "LayoutView",
            "grid_template_rows": null,
            "right": null,
            "justify_content": null,
            "_view_module": "@jupyter-widgets/base",
            "overflow": null,
            "_model_module_version": "1.2.0",
            "_view_count": null,
            "flex_flow": null,
            "width": null,
            "min_width": null,
            "border": null,
            "align_items": null,
            "bottom": null,
            "_model_module": "@jupyter-widgets/base",
            "top": null,
            "grid_column": null,
            "overflow_y": null,
            "overflow_x": null,
            "grid_auto_flow": null,
            "grid_area": null,
            "grid_template_columns": null,
            "flex": null,
            "_model_name": "LayoutModel",
            "justify_items": null,
            "grid_row": null,
            "max_height": null,
            "align_content": null,
            "visibility": null,
            "align_self": null,
            "height": null,
            "min_height": null,
            "padding": null,
            "grid_auto_rows": null,
            "grid_gap": null,
            "max_width": null,
            "order": null,
            "_view_module_version": "1.2.0",
            "grid_template_areas": null,
            "object_position": null,
            "object_fit": null,
            "grid_auto_columns": null,
            "margin": null,
            "display": null,
            "left": null
          }
        },
        "67209c8178b644eb9d06331746f52a3b": {
          "model_module": "@jupyter-widgets/controls",
          "model_name": "HBoxModel",
          "state": {
            "_view_name": "HBoxView",
            "_dom_classes": [],
            "_model_name": "HBoxModel",
            "_view_module": "@jupyter-widgets/controls",
            "_model_module_version": "1.5.0",
            "_view_count": null,
            "_view_module_version": "1.5.0",
            "box_style": "",
            "layout": "IPY_MODEL_432c4f6bd10f47cb93bf735d5f94fd2b",
            "_model_module": "@jupyter-widgets/controls",
            "children": [
              "IPY_MODEL_8be57416d0814e0ba1d98bcc1216170e",
              "IPY_MODEL_67a569018344405d879972bb1f274de2"
            ]
          }
        },
        "432c4f6bd10f47cb93bf735d5f94fd2b": {
          "model_module": "@jupyter-widgets/base",
          "model_name": "LayoutModel",
          "state": {
            "_view_name": "LayoutView",
            "grid_template_rows": null,
            "right": null,
            "justify_content": null,
            "_view_module": "@jupyter-widgets/base",
            "overflow": null,
            "_model_module_version": "1.2.0",
            "_view_count": null,
            "flex_flow": null,
            "width": null,
            "min_width": null,
            "border": null,
            "align_items": null,
            "bottom": null,
            "_model_module": "@jupyter-widgets/base",
            "top": null,
            "grid_column": null,
            "overflow_y": null,
            "overflow_x": null,
            "grid_auto_flow": null,
            "grid_area": null,
            "grid_template_columns": null,
            "flex": null,
            "_model_name": "LayoutModel",
            "justify_items": null,
            "grid_row": null,
            "max_height": null,
            "align_content": null,
            "visibility": null,
            "align_self": null,
            "height": null,
            "min_height": null,
            "padding": null,
            "grid_auto_rows": null,
            "grid_gap": null,
            "max_width": null,
            "order": null,
            "_view_module_version": "1.2.0",
            "grid_template_areas": null,
            "object_position": null,
            "object_fit": null,
            "grid_auto_columns": null,
            "margin": null,
            "display": null,
            "left": null
          }
        },
        "8be57416d0814e0ba1d98bcc1216170e": {
          "model_module": "@jupyter-widgets/controls",
          "model_name": "FloatProgressModel",
          "state": {
            "_view_name": "ProgressView",
            "style": "IPY_MODEL_5e3c510223114c7a9394ef569b6bd01f",
            "_dom_classes": [],
            "description": "100%",
            "_model_name": "FloatProgressModel",
            "bar_style": "success",
            "max": 1000000,
            "_view_module": "@jupyter-widgets/controls",
            "_model_module_version": "1.5.0",
            "value": 1000000,
            "_view_count": null,
            "_view_module_version": "1.5.0",
            "orientation": "horizontal",
            "min": 0,
            "description_tooltip": null,
            "_model_module": "@jupyter-widgets/controls",
            "layout": "IPY_MODEL_cb93f1fb2e144e56b7cbe3394fb8ba3f"
          }
        },
        "67a569018344405d879972bb1f274de2": {
          "model_module": "@jupyter-widgets/controls",
          "model_name": "HTMLModel",
          "state": {
            "_view_name": "HTMLView",
            "style": "IPY_MODEL_cbb9f047bb2f49abb518bd3a8b53c0ae",
            "_dom_classes": [],
            "description": "",
            "_model_name": "HTMLModel",
            "placeholder": "​",
            "_view_module": "@jupyter-widgets/controls",
            "_model_module_version": "1.5.0",
            "value": " 1000000/1000000 [02:43&lt;00:00, 6121.91it/s]",
            "_view_count": null,
            "_view_module_version": "1.5.0",
            "description_tooltip": null,
            "_model_module": "@jupyter-widgets/controls",
            "layout": "IPY_MODEL_9234a9e1ca6141e588b7bf755b70cf00"
          }
        },
        "5e3c510223114c7a9394ef569b6bd01f": {
          "model_module": "@jupyter-widgets/controls",
          "model_name": "ProgressStyleModel",
          "state": {
            "_view_name": "StyleView",
            "_model_name": "ProgressStyleModel",
            "description_width": "initial",
            "_view_module": "@jupyter-widgets/base",
            "_model_module_version": "1.5.0",
            "_view_count": null,
            "_view_module_version": "1.2.0",
            "bar_color": null,
            "_model_module": "@jupyter-widgets/controls"
          }
        },
        "cb93f1fb2e144e56b7cbe3394fb8ba3f": {
          "model_module": "@jupyter-widgets/base",
          "model_name": "LayoutModel",
          "state": {
            "_view_name": "LayoutView",
            "grid_template_rows": null,
            "right": null,
            "justify_content": null,
            "_view_module": "@jupyter-widgets/base",
            "overflow": null,
            "_model_module_version": "1.2.0",
            "_view_count": null,
            "flex_flow": null,
            "width": null,
            "min_width": null,
            "border": null,
            "align_items": null,
            "bottom": null,
            "_model_module": "@jupyter-widgets/base",
            "top": null,
            "grid_column": null,
            "overflow_y": null,
            "overflow_x": null,
            "grid_auto_flow": null,
            "grid_area": null,
            "grid_template_columns": null,
            "flex": null,
            "_model_name": "LayoutModel",
            "justify_items": null,
            "grid_row": null,
            "max_height": null,
            "align_content": null,
            "visibility": null,
            "align_self": null,
            "height": null,
            "min_height": null,
            "padding": null,
            "grid_auto_rows": null,
            "grid_gap": null,
            "max_width": null,
            "order": null,
            "_view_module_version": "1.2.0",
            "grid_template_areas": null,
            "object_position": null,
            "object_fit": null,
            "grid_auto_columns": null,
            "margin": null,
            "display": null,
            "left": null
          }
        },
        "cbb9f047bb2f49abb518bd3a8b53c0ae": {
          "model_module": "@jupyter-widgets/controls",
          "model_name": "DescriptionStyleModel",
          "state": {
            "_view_name": "StyleView",
            "_model_name": "DescriptionStyleModel",
            "description_width": "",
            "_view_module": "@jupyter-widgets/base",
            "_model_module_version": "1.5.0",
            "_view_count": null,
            "_view_module_version": "1.2.0",
            "_model_module": "@jupyter-widgets/controls"
          }
        },
        "9234a9e1ca6141e588b7bf755b70cf00": {
          "model_module": "@jupyter-widgets/base",
          "model_name": "LayoutModel",
          "state": {
            "_view_name": "LayoutView",
            "grid_template_rows": null,
            "right": null,
            "justify_content": null,
            "_view_module": "@jupyter-widgets/base",
            "overflow": null,
            "_model_module_version": "1.2.0",
            "_view_count": null,
            "flex_flow": null,
            "width": null,
            "min_width": null,
            "border": null,
            "align_items": null,
            "bottom": null,
            "_model_module": "@jupyter-widgets/base",
            "top": null,
            "grid_column": null,
            "overflow_y": null,
            "overflow_x": null,
            "grid_auto_flow": null,
            "grid_area": null,
            "grid_template_columns": null,
            "flex": null,
            "_model_name": "LayoutModel",
            "justify_items": null,
            "grid_row": null,
            "max_height": null,
            "align_content": null,
            "visibility": null,
            "align_self": null,
            "height": null,
            "min_height": null,
            "padding": null,
            "grid_auto_rows": null,
            "grid_gap": null,
            "max_width": null,
            "order": null,
            "_view_module_version": "1.2.0",
            "grid_template_areas": null,
            "object_position": null,
            "object_fit": null,
            "grid_auto_columns": null,
            "margin": null,
            "display": null,
            "left": null
          }
        },
        "40ab3b3907bd4066bf0cedf2bfc47acf": {
          "model_module": "@jupyter-widgets/controls",
          "model_name": "HBoxModel",
          "state": {
            "_view_name": "HBoxView",
            "_dom_classes": [],
            "_model_name": "HBoxModel",
            "_view_module": "@jupyter-widgets/controls",
            "_model_module_version": "1.5.0",
            "_view_count": null,
            "_view_module_version": "1.5.0",
            "box_style": "",
            "layout": "IPY_MODEL_2604a726227f43e1be817710fd816f06",
            "_model_module": "@jupyter-widgets/controls",
            "children": [
              "IPY_MODEL_024eecea82524d298cc7690a031b9cff",
              "IPY_MODEL_8f80117fed5b40c9a93438ee2c0f557e"
            ]
          }
        },
        "2604a726227f43e1be817710fd816f06": {
          "model_module": "@jupyter-widgets/base",
          "model_name": "LayoutModel",
          "state": {
            "_view_name": "LayoutView",
            "grid_template_rows": null,
            "right": null,
            "justify_content": null,
            "_view_module": "@jupyter-widgets/base",
            "overflow": null,
            "_model_module_version": "1.2.0",
            "_view_count": null,
            "flex_flow": null,
            "width": null,
            "min_width": null,
            "border": null,
            "align_items": null,
            "bottom": null,
            "_model_module": "@jupyter-widgets/base",
            "top": null,
            "grid_column": null,
            "overflow_y": null,
            "overflow_x": null,
            "grid_auto_flow": null,
            "grid_area": null,
            "grid_template_columns": null,
            "flex": null,
            "_model_name": "LayoutModel",
            "justify_items": null,
            "grid_row": null,
            "max_height": null,
            "align_content": null,
            "visibility": null,
            "align_self": null,
            "height": null,
            "min_height": null,
            "padding": null,
            "grid_auto_rows": null,
            "grid_gap": null,
            "max_width": null,
            "order": null,
            "_view_module_version": "1.2.0",
            "grid_template_areas": null,
            "object_position": null,
            "object_fit": null,
            "grid_auto_columns": null,
            "margin": null,
            "display": null,
            "left": null
          }
        },
        "024eecea82524d298cc7690a031b9cff": {
          "model_module": "@jupyter-widgets/controls",
          "model_name": "FloatProgressModel",
          "state": {
            "_view_name": "ProgressView",
            "style": "IPY_MODEL_a84e0c0b5bb5469aa86a8df48ed207cf",
            "_dom_classes": [],
            "description": "100%",
            "_model_name": "FloatProgressModel",
            "bar_style": "success",
            "max": 1000000,
            "_view_module": "@jupyter-widgets/controls",
            "_model_module_version": "1.5.0",
            "value": 1000000,
            "_view_count": null,
            "_view_module_version": "1.5.0",
            "orientation": "horizontal",
            "min": 0,
            "description_tooltip": null,
            "_model_module": "@jupyter-widgets/controls",
            "layout": "IPY_MODEL_cc56de25886646fb97605b5951904707"
          }
        },
        "8f80117fed5b40c9a93438ee2c0f557e": {
          "model_module": "@jupyter-widgets/controls",
          "model_name": "HTMLModel",
          "state": {
            "_view_name": "HTMLView",
            "style": "IPY_MODEL_633a70aff9c34f1f8425f46b0b1a5e3a",
            "_dom_classes": [],
            "description": "",
            "_model_name": "HTMLModel",
            "placeholder": "​",
            "_view_module": "@jupyter-widgets/controls",
            "_model_module_version": "1.5.0",
            "value": " 1000000/1000000 [02:52&lt;00:00, 5784.84it/s]",
            "_view_count": null,
            "_view_module_version": "1.5.0",
            "description_tooltip": null,
            "_model_module": "@jupyter-widgets/controls",
            "layout": "IPY_MODEL_ffc54b12d5534a61bea81759651922af"
          }
        },
        "a84e0c0b5bb5469aa86a8df48ed207cf": {
          "model_module": "@jupyter-widgets/controls",
          "model_name": "ProgressStyleModel",
          "state": {
            "_view_name": "StyleView",
            "_model_name": "ProgressStyleModel",
            "description_width": "initial",
            "_view_module": "@jupyter-widgets/base",
            "_model_module_version": "1.5.0",
            "_view_count": null,
            "_view_module_version": "1.2.0",
            "bar_color": null,
            "_model_module": "@jupyter-widgets/controls"
          }
        },
        "cc56de25886646fb97605b5951904707": {
          "model_module": "@jupyter-widgets/base",
          "model_name": "LayoutModel",
          "state": {
            "_view_name": "LayoutView",
            "grid_template_rows": null,
            "right": null,
            "justify_content": null,
            "_view_module": "@jupyter-widgets/base",
            "overflow": null,
            "_model_module_version": "1.2.0",
            "_view_count": null,
            "flex_flow": null,
            "width": null,
            "min_width": null,
            "border": null,
            "align_items": null,
            "bottom": null,
            "_model_module": "@jupyter-widgets/base",
            "top": null,
            "grid_column": null,
            "overflow_y": null,
            "overflow_x": null,
            "grid_auto_flow": null,
            "grid_area": null,
            "grid_template_columns": null,
            "flex": null,
            "_model_name": "LayoutModel",
            "justify_items": null,
            "grid_row": null,
            "max_height": null,
            "align_content": null,
            "visibility": null,
            "align_self": null,
            "height": null,
            "min_height": null,
            "padding": null,
            "grid_auto_rows": null,
            "grid_gap": null,
            "max_width": null,
            "order": null,
            "_view_module_version": "1.2.0",
            "grid_template_areas": null,
            "object_position": null,
            "object_fit": null,
            "grid_auto_columns": null,
            "margin": null,
            "display": null,
            "left": null
          }
        },
        "633a70aff9c34f1f8425f46b0b1a5e3a": {
          "model_module": "@jupyter-widgets/controls",
          "model_name": "DescriptionStyleModel",
          "state": {
            "_view_name": "StyleView",
            "_model_name": "DescriptionStyleModel",
            "description_width": "",
            "_view_module": "@jupyter-widgets/base",
            "_model_module_version": "1.5.0",
            "_view_count": null,
            "_view_module_version": "1.2.0",
            "_model_module": "@jupyter-widgets/controls"
          }
        },
        "ffc54b12d5534a61bea81759651922af": {
          "model_module": "@jupyter-widgets/base",
          "model_name": "LayoutModel",
          "state": {
            "_view_name": "LayoutView",
            "grid_template_rows": null,
            "right": null,
            "justify_content": null,
            "_view_module": "@jupyter-widgets/base",
            "overflow": null,
            "_model_module_version": "1.2.0",
            "_view_count": null,
            "flex_flow": null,
            "width": null,
            "min_width": null,
            "border": null,
            "align_items": null,
            "bottom": null,
            "_model_module": "@jupyter-widgets/base",
            "top": null,
            "grid_column": null,
            "overflow_y": null,
            "overflow_x": null,
            "grid_auto_flow": null,
            "grid_area": null,
            "grid_template_columns": null,
            "flex": null,
            "_model_name": "LayoutModel",
            "justify_items": null,
            "grid_row": null,
            "max_height": null,
            "align_content": null,
            "visibility": null,
            "align_self": null,
            "height": null,
            "min_height": null,
            "padding": null,
            "grid_auto_rows": null,
            "grid_gap": null,
            "max_width": null,
            "order": null,
            "_view_module_version": "1.2.0",
            "grid_template_areas": null,
            "object_position": null,
            "object_fit": null,
            "grid_auto_columns": null,
            "margin": null,
            "display": null,
            "left": null
          }
        },
        "d06497e95529406494b5b8747c976f06": {
          "model_module": "@jupyter-widgets/controls",
          "model_name": "HBoxModel",
          "state": {
            "_view_name": "HBoxView",
            "_dom_classes": [],
            "_model_name": "HBoxModel",
            "_view_module": "@jupyter-widgets/controls",
            "_model_module_version": "1.5.0",
            "_view_count": null,
            "_view_module_version": "1.5.0",
            "box_style": "",
            "layout": "IPY_MODEL_9022ab2cbf04426b9b9620a89be7ddd5",
            "_model_module": "@jupyter-widgets/controls",
            "children": [
              "IPY_MODEL_8a9b8c5edcb045e4a7dd5b515d3af7db",
              "IPY_MODEL_85e186244e8944f183590fa4541a2123"
            ]
          }
        },
        "9022ab2cbf04426b9b9620a89be7ddd5": {
          "model_module": "@jupyter-widgets/base",
          "model_name": "LayoutModel",
          "state": {
            "_view_name": "LayoutView",
            "grid_template_rows": null,
            "right": null,
            "justify_content": null,
            "_view_module": "@jupyter-widgets/base",
            "overflow": null,
            "_model_module_version": "1.2.0",
            "_view_count": null,
            "flex_flow": null,
            "width": null,
            "min_width": null,
            "border": null,
            "align_items": null,
            "bottom": null,
            "_model_module": "@jupyter-widgets/base",
            "top": null,
            "grid_column": null,
            "overflow_y": null,
            "overflow_x": null,
            "grid_auto_flow": null,
            "grid_area": null,
            "grid_template_columns": null,
            "flex": null,
            "_model_name": "LayoutModel",
            "justify_items": null,
            "grid_row": null,
            "max_height": null,
            "align_content": null,
            "visibility": null,
            "align_self": null,
            "height": null,
            "min_height": null,
            "padding": null,
            "grid_auto_rows": null,
            "grid_gap": null,
            "max_width": null,
            "order": null,
            "_view_module_version": "1.2.0",
            "grid_template_areas": null,
            "object_position": null,
            "object_fit": null,
            "grid_auto_columns": null,
            "margin": null,
            "display": null,
            "left": null
          }
        },
        "8a9b8c5edcb045e4a7dd5b515d3af7db": {
          "model_module": "@jupyter-widgets/controls",
          "model_name": "FloatProgressModel",
          "state": {
            "_view_name": "ProgressView",
            "style": "IPY_MODEL_4691309014574e2e97916b2a52e7e6f4",
            "_dom_classes": [],
            "description": "100%",
            "_model_name": "FloatProgressModel",
            "bar_style": "success",
            "max": 1000000,
            "_view_module": "@jupyter-widgets/controls",
            "_model_module_version": "1.5.0",
            "value": 1000000,
            "_view_count": null,
            "_view_module_version": "1.5.0",
            "orientation": "horizontal",
            "min": 0,
            "description_tooltip": null,
            "_model_module": "@jupyter-widgets/controls",
            "layout": "IPY_MODEL_b359f098505645a088e0297248a9654b"
          }
        },
        "85e186244e8944f183590fa4541a2123": {
          "model_module": "@jupyter-widgets/controls",
          "model_name": "HTMLModel",
          "state": {
            "_view_name": "HTMLView",
            "style": "IPY_MODEL_01df0f6235164ce7ae49de0b6a6b7f37",
            "_dom_classes": [],
            "description": "",
            "_model_name": "HTMLModel",
            "placeholder": "​",
            "_view_module": "@jupyter-widgets/controls",
            "_model_module_version": "1.5.0",
            "value": " 1000000/1000000 [08:21&lt;00:00, 1994.28it/s]",
            "_view_count": null,
            "_view_module_version": "1.5.0",
            "description_tooltip": null,
            "_model_module": "@jupyter-widgets/controls",
            "layout": "IPY_MODEL_c8ab2972e1d94cfea62b1c147aea3ea7"
          }
        },
        "4691309014574e2e97916b2a52e7e6f4": {
          "model_module": "@jupyter-widgets/controls",
          "model_name": "ProgressStyleModel",
          "state": {
            "_view_name": "StyleView",
            "_model_name": "ProgressStyleModel",
            "description_width": "initial",
            "_view_module": "@jupyter-widgets/base",
            "_model_module_version": "1.5.0",
            "_view_count": null,
            "_view_module_version": "1.2.0",
            "bar_color": null,
            "_model_module": "@jupyter-widgets/controls"
          }
        },
        "b359f098505645a088e0297248a9654b": {
          "model_module": "@jupyter-widgets/base",
          "model_name": "LayoutModel",
          "state": {
            "_view_name": "LayoutView",
            "grid_template_rows": null,
            "right": null,
            "justify_content": null,
            "_view_module": "@jupyter-widgets/base",
            "overflow": null,
            "_model_module_version": "1.2.0",
            "_view_count": null,
            "flex_flow": null,
            "width": null,
            "min_width": null,
            "border": null,
            "align_items": null,
            "bottom": null,
            "_model_module": "@jupyter-widgets/base",
            "top": null,
            "grid_column": null,
            "overflow_y": null,
            "overflow_x": null,
            "grid_auto_flow": null,
            "grid_area": null,
            "grid_template_columns": null,
            "flex": null,
            "_model_name": "LayoutModel",
            "justify_items": null,
            "grid_row": null,
            "max_height": null,
            "align_content": null,
            "visibility": null,
            "align_self": null,
            "height": null,
            "min_height": null,
            "padding": null,
            "grid_auto_rows": null,
            "grid_gap": null,
            "max_width": null,
            "order": null,
            "_view_module_version": "1.2.0",
            "grid_template_areas": null,
            "object_position": null,
            "object_fit": null,
            "grid_auto_columns": null,
            "margin": null,
            "display": null,
            "left": null
          }
        },
        "01df0f6235164ce7ae49de0b6a6b7f37": {
          "model_module": "@jupyter-widgets/controls",
          "model_name": "DescriptionStyleModel",
          "state": {
            "_view_name": "StyleView",
            "_model_name": "DescriptionStyleModel",
            "description_width": "",
            "_view_module": "@jupyter-widgets/base",
            "_model_module_version": "1.5.0",
            "_view_count": null,
            "_view_module_version": "1.2.0",
            "_model_module": "@jupyter-widgets/controls"
          }
        },
        "c8ab2972e1d94cfea62b1c147aea3ea7": {
          "model_module": "@jupyter-widgets/base",
          "model_name": "LayoutModel",
          "state": {
            "_view_name": "LayoutView",
            "grid_template_rows": null,
            "right": null,
            "justify_content": null,
            "_view_module": "@jupyter-widgets/base",
            "overflow": null,
            "_model_module_version": "1.2.0",
            "_view_count": null,
            "flex_flow": null,
            "width": null,
            "min_width": null,
            "border": null,
            "align_items": null,
            "bottom": null,
            "_model_module": "@jupyter-widgets/base",
            "top": null,
            "grid_column": null,
            "overflow_y": null,
            "overflow_x": null,
            "grid_auto_flow": null,
            "grid_area": null,
            "grid_template_columns": null,
            "flex": null,
            "_model_name": "LayoutModel",
            "justify_items": null,
            "grid_row": null,
            "max_height": null,
            "align_content": null,
            "visibility": null,
            "align_self": null,
            "height": null,
            "min_height": null,
            "padding": null,
            "grid_auto_rows": null,
            "grid_gap": null,
            "max_width": null,
            "order": null,
            "_view_module_version": "1.2.0",
            "grid_template_areas": null,
            "object_position": null,
            "object_fit": null,
            "grid_auto_columns": null,
            "margin": null,
            "display": null,
            "left": null
          }
        },
        "325078e4a1bd4d13bfd4f9ac696b16f9": {
          "model_module": "@jupyter-widgets/controls",
          "model_name": "HBoxModel",
          "state": {
            "_view_name": "HBoxView",
            "_dom_classes": [],
            "_model_name": "HBoxModel",
            "_view_module": "@jupyter-widgets/controls",
            "_model_module_version": "1.5.0",
            "_view_count": null,
            "_view_module_version": "1.5.0",
            "box_style": "",
            "layout": "IPY_MODEL_720a051662ca453a8cc06b3d3b74d84c",
            "_model_module": "@jupyter-widgets/controls",
            "children": [
              "IPY_MODEL_b3560942a7a6412abcdcfd19b1e44355",
              "IPY_MODEL_18adcb5f410f4ec6afff976b1b762624"
            ]
          }
        },
        "720a051662ca453a8cc06b3d3b74d84c": {
          "model_module": "@jupyter-widgets/base",
          "model_name": "LayoutModel",
          "state": {
            "_view_name": "LayoutView",
            "grid_template_rows": null,
            "right": null,
            "justify_content": null,
            "_view_module": "@jupyter-widgets/base",
            "overflow": null,
            "_model_module_version": "1.2.0",
            "_view_count": null,
            "flex_flow": null,
            "width": null,
            "min_width": null,
            "border": null,
            "align_items": null,
            "bottom": null,
            "_model_module": "@jupyter-widgets/base",
            "top": null,
            "grid_column": null,
            "overflow_y": null,
            "overflow_x": null,
            "grid_auto_flow": null,
            "grid_area": null,
            "grid_template_columns": null,
            "flex": null,
            "_model_name": "LayoutModel",
            "justify_items": null,
            "grid_row": null,
            "max_height": null,
            "align_content": null,
            "visibility": null,
            "align_self": null,
            "height": null,
            "min_height": null,
            "padding": null,
            "grid_auto_rows": null,
            "grid_gap": null,
            "max_width": null,
            "order": null,
            "_view_module_version": "1.2.0",
            "grid_template_areas": null,
            "object_position": null,
            "object_fit": null,
            "grid_auto_columns": null,
            "margin": null,
            "display": null,
            "left": null
          }
        },
        "b3560942a7a6412abcdcfd19b1e44355": {
          "model_module": "@jupyter-widgets/controls",
          "model_name": "FloatProgressModel",
          "state": {
            "_view_name": "ProgressView",
            "style": "IPY_MODEL_86e58c4ee158484289fd674b4dcedcd1",
            "_dom_classes": [],
            "description": "100%",
            "_model_name": "FloatProgressModel",
            "bar_style": "success",
            "max": 1000000,
            "_view_module": "@jupyter-widgets/controls",
            "_model_module_version": "1.5.0",
            "value": 1000000,
            "_view_count": null,
            "_view_module_version": "1.5.0",
            "orientation": "horizontal",
            "min": 0,
            "description_tooltip": null,
            "_model_module": "@jupyter-widgets/controls",
            "layout": "IPY_MODEL_a8658bcd5bd9427ab667169d250bda71"
          }
        },
        "18adcb5f410f4ec6afff976b1b762624": {
          "model_module": "@jupyter-widgets/controls",
          "model_name": "HTMLModel",
          "state": {
            "_view_name": "HTMLView",
            "style": "IPY_MODEL_3722671867304187aa9f8610caeeed08",
            "_dom_classes": [],
            "description": "",
            "_model_name": "HTMLModel",
            "placeholder": "​",
            "_view_module": "@jupyter-widgets/controls",
            "_model_module_version": "1.5.0",
            "value": " 1000000/1000000 [05:38&lt;00:00, 2950.99it/s]",
            "_view_count": null,
            "_view_module_version": "1.5.0",
            "description_tooltip": null,
            "_model_module": "@jupyter-widgets/controls",
            "layout": "IPY_MODEL_5a3aabefa84d437b87701557517f5ebf"
          }
        },
        "86e58c4ee158484289fd674b4dcedcd1": {
          "model_module": "@jupyter-widgets/controls",
          "model_name": "ProgressStyleModel",
          "state": {
            "_view_name": "StyleView",
            "_model_name": "ProgressStyleModel",
            "description_width": "initial",
            "_view_module": "@jupyter-widgets/base",
            "_model_module_version": "1.5.0",
            "_view_count": null,
            "_view_module_version": "1.2.0",
            "bar_color": null,
            "_model_module": "@jupyter-widgets/controls"
          }
        },
        "a8658bcd5bd9427ab667169d250bda71": {
          "model_module": "@jupyter-widgets/base",
          "model_name": "LayoutModel",
          "state": {
            "_view_name": "LayoutView",
            "grid_template_rows": null,
            "right": null,
            "justify_content": null,
            "_view_module": "@jupyter-widgets/base",
            "overflow": null,
            "_model_module_version": "1.2.0",
            "_view_count": null,
            "flex_flow": null,
            "width": null,
            "min_width": null,
            "border": null,
            "align_items": null,
            "bottom": null,
            "_model_module": "@jupyter-widgets/base",
            "top": null,
            "grid_column": null,
            "overflow_y": null,
            "overflow_x": null,
            "grid_auto_flow": null,
            "grid_area": null,
            "grid_template_columns": null,
            "flex": null,
            "_model_name": "LayoutModel",
            "justify_items": null,
            "grid_row": null,
            "max_height": null,
            "align_content": null,
            "visibility": null,
            "align_self": null,
            "height": null,
            "min_height": null,
            "padding": null,
            "grid_auto_rows": null,
            "grid_gap": null,
            "max_width": null,
            "order": null,
            "_view_module_version": "1.2.0",
            "grid_template_areas": null,
            "object_position": null,
            "object_fit": null,
            "grid_auto_columns": null,
            "margin": null,
            "display": null,
            "left": null
          }
        },
        "3722671867304187aa9f8610caeeed08": {
          "model_module": "@jupyter-widgets/controls",
          "model_name": "DescriptionStyleModel",
          "state": {
            "_view_name": "StyleView",
            "_model_name": "DescriptionStyleModel",
            "description_width": "",
            "_view_module": "@jupyter-widgets/base",
            "_model_module_version": "1.5.0",
            "_view_count": null,
            "_view_module_version": "1.2.0",
            "_model_module": "@jupyter-widgets/controls"
          }
        },
        "5a3aabefa84d437b87701557517f5ebf": {
          "model_module": "@jupyter-widgets/base",
          "model_name": "LayoutModel",
          "state": {
            "_view_name": "LayoutView",
            "grid_template_rows": null,
            "right": null,
            "justify_content": null,
            "_view_module": "@jupyter-widgets/base",
            "overflow": null,
            "_model_module_version": "1.2.0",
            "_view_count": null,
            "flex_flow": null,
            "width": null,
            "min_width": null,
            "border": null,
            "align_items": null,
            "bottom": null,
            "_model_module": "@jupyter-widgets/base",
            "top": null,
            "grid_column": null,
            "overflow_y": null,
            "overflow_x": null,
            "grid_auto_flow": null,
            "grid_area": null,
            "grid_template_columns": null,
            "flex": null,
            "_model_name": "LayoutModel",
            "justify_items": null,
            "grid_row": null,
            "max_height": null,
            "align_content": null,
            "visibility": null,
            "align_self": null,
            "height": null,
            "min_height": null,
            "padding": null,
            "grid_auto_rows": null,
            "grid_gap": null,
            "max_width": null,
            "order": null,
            "_view_module_version": "1.2.0",
            "grid_template_areas": null,
            "object_position": null,
            "object_fit": null,
            "grid_auto_columns": null,
            "margin": null,
            "display": null,
            "left": null
          }
        },
        "184d3fdb4e604a7fa93be682d6034cce": {
          "model_module": "@jupyter-widgets/controls",
          "model_name": "HBoxModel",
          "state": {
            "_view_name": "HBoxView",
            "_dom_classes": [],
            "_model_name": "HBoxModel",
            "_view_module": "@jupyter-widgets/controls",
            "_model_module_version": "1.5.0",
            "_view_count": null,
            "_view_module_version": "1.5.0",
            "box_style": "",
            "layout": "IPY_MODEL_05d876b500e54c1ab2ed7958ecaadf52",
            "_model_module": "@jupyter-widgets/controls",
            "children": [
              "IPY_MODEL_ca3930b8adb4482daac127c324ed5b8e",
              "IPY_MODEL_b5da5be4aff24f8981933bf76c201fa6"
            ]
          }
        },
        "05d876b500e54c1ab2ed7958ecaadf52": {
          "model_module": "@jupyter-widgets/base",
          "model_name": "LayoutModel",
          "state": {
            "_view_name": "LayoutView",
            "grid_template_rows": null,
            "right": null,
            "justify_content": null,
            "_view_module": "@jupyter-widgets/base",
            "overflow": null,
            "_model_module_version": "1.2.0",
            "_view_count": null,
            "flex_flow": null,
            "width": null,
            "min_width": null,
            "border": null,
            "align_items": null,
            "bottom": null,
            "_model_module": "@jupyter-widgets/base",
            "top": null,
            "grid_column": null,
            "overflow_y": null,
            "overflow_x": null,
            "grid_auto_flow": null,
            "grid_area": null,
            "grid_template_columns": null,
            "flex": null,
            "_model_name": "LayoutModel",
            "justify_items": null,
            "grid_row": null,
            "max_height": null,
            "align_content": null,
            "visibility": null,
            "align_self": null,
            "height": null,
            "min_height": null,
            "padding": null,
            "grid_auto_rows": null,
            "grid_gap": null,
            "max_width": null,
            "order": null,
            "_view_module_version": "1.2.0",
            "grid_template_areas": null,
            "object_position": null,
            "object_fit": null,
            "grid_auto_columns": null,
            "margin": null,
            "display": null,
            "left": null
          }
        },
        "ca3930b8adb4482daac127c324ed5b8e": {
          "model_module": "@jupyter-widgets/controls",
          "model_name": "FloatProgressModel",
          "state": {
            "_view_name": "ProgressView",
            "style": "IPY_MODEL_3e39c6fbbeb84c56978ad60b97837c18",
            "_dom_classes": [],
            "description": "100%",
            "_model_name": "FloatProgressModel",
            "bar_style": "success",
            "max": 1000000,
            "_view_module": "@jupyter-widgets/controls",
            "_model_module_version": "1.5.0",
            "value": 1000000,
            "_view_count": null,
            "_view_module_version": "1.5.0",
            "orientation": "horizontal",
            "min": 0,
            "description_tooltip": null,
            "_model_module": "@jupyter-widgets/controls",
            "layout": "IPY_MODEL_7c8afbc019f748a6809a54811deb575e"
          }
        },
        "b5da5be4aff24f8981933bf76c201fa6": {
          "model_module": "@jupyter-widgets/controls",
          "model_name": "HTMLModel",
          "state": {
            "_view_name": "HTMLView",
            "style": "IPY_MODEL_27e0dad5748547f59837011776ce6f64",
            "_dom_classes": [],
            "description": "",
            "_model_name": "HTMLModel",
            "placeholder": "​",
            "_view_module": "@jupyter-widgets/controls",
            "_model_module_version": "1.5.0",
            "value": " 1000000/1000000 [02:53&lt;00:00, 5778.17it/s]",
            "_view_count": null,
            "_view_module_version": "1.5.0",
            "description_tooltip": null,
            "_model_module": "@jupyter-widgets/controls",
            "layout": "IPY_MODEL_9bad6c3113a6478286cf722b0622995e"
          }
        },
        "3e39c6fbbeb84c56978ad60b97837c18": {
          "model_module": "@jupyter-widgets/controls",
          "model_name": "ProgressStyleModel",
          "state": {
            "_view_name": "StyleView",
            "_model_name": "ProgressStyleModel",
            "description_width": "initial",
            "_view_module": "@jupyter-widgets/base",
            "_model_module_version": "1.5.0",
            "_view_count": null,
            "_view_module_version": "1.2.0",
            "bar_color": null,
            "_model_module": "@jupyter-widgets/controls"
          }
        },
        "7c8afbc019f748a6809a54811deb575e": {
          "model_module": "@jupyter-widgets/base",
          "model_name": "LayoutModel",
          "state": {
            "_view_name": "LayoutView",
            "grid_template_rows": null,
            "right": null,
            "justify_content": null,
            "_view_module": "@jupyter-widgets/base",
            "overflow": null,
            "_model_module_version": "1.2.0",
            "_view_count": null,
            "flex_flow": null,
            "width": null,
            "min_width": null,
            "border": null,
            "align_items": null,
            "bottom": null,
            "_model_module": "@jupyter-widgets/base",
            "top": null,
            "grid_column": null,
            "overflow_y": null,
            "overflow_x": null,
            "grid_auto_flow": null,
            "grid_area": null,
            "grid_template_columns": null,
            "flex": null,
            "_model_name": "LayoutModel",
            "justify_items": null,
            "grid_row": null,
            "max_height": null,
            "align_content": null,
            "visibility": null,
            "align_self": null,
            "height": null,
            "min_height": null,
            "padding": null,
            "grid_auto_rows": null,
            "grid_gap": null,
            "max_width": null,
            "order": null,
            "_view_module_version": "1.2.0",
            "grid_template_areas": null,
            "object_position": null,
            "object_fit": null,
            "grid_auto_columns": null,
            "margin": null,
            "display": null,
            "left": null
          }
        },
        "27e0dad5748547f59837011776ce6f64": {
          "model_module": "@jupyter-widgets/controls",
          "model_name": "DescriptionStyleModel",
          "state": {
            "_view_name": "StyleView",
            "_model_name": "DescriptionStyleModel",
            "description_width": "",
            "_view_module": "@jupyter-widgets/base",
            "_model_module_version": "1.5.0",
            "_view_count": null,
            "_view_module_version": "1.2.0",
            "_model_module": "@jupyter-widgets/controls"
          }
        },
        "9bad6c3113a6478286cf722b0622995e": {
          "model_module": "@jupyter-widgets/base",
          "model_name": "LayoutModel",
          "state": {
            "_view_name": "LayoutView",
            "grid_template_rows": null,
            "right": null,
            "justify_content": null,
            "_view_module": "@jupyter-widgets/base",
            "overflow": null,
            "_model_module_version": "1.2.0",
            "_view_count": null,
            "flex_flow": null,
            "width": null,
            "min_width": null,
            "border": null,
            "align_items": null,
            "bottom": null,
            "_model_module": "@jupyter-widgets/base",
            "top": null,
            "grid_column": null,
            "overflow_y": null,
            "overflow_x": null,
            "grid_auto_flow": null,
            "grid_area": null,
            "grid_template_columns": null,
            "flex": null,
            "_model_name": "LayoutModel",
            "justify_items": null,
            "grid_row": null,
            "max_height": null,
            "align_content": null,
            "visibility": null,
            "align_self": null,
            "height": null,
            "min_height": null,
            "padding": null,
            "grid_auto_rows": null,
            "grid_gap": null,
            "max_width": null,
            "order": null,
            "_view_module_version": "1.2.0",
            "grid_template_areas": null,
            "object_position": null,
            "object_fit": null,
            "grid_auto_columns": null,
            "margin": null,
            "display": null,
            "left": null
          }
        },
        "23a0bb342ae74a9990e0be3fe637e7cc": {
          "model_module": "@jupyter-widgets/controls",
          "model_name": "HBoxModel",
          "state": {
            "_view_name": "HBoxView",
            "_dom_classes": [],
            "_model_name": "HBoxModel",
            "_view_module": "@jupyter-widgets/controls",
            "_model_module_version": "1.5.0",
            "_view_count": null,
            "_view_module_version": "1.5.0",
            "box_style": "",
            "layout": "IPY_MODEL_1b43803b54c94cbb9dbe5039d957ab8f",
            "_model_module": "@jupyter-widgets/controls",
            "children": [
              "IPY_MODEL_694c0dd608f844559abdaddd7bb2eada",
              "IPY_MODEL_6543b0f6b2554cf69e2ff3e89231dbf0"
            ]
          }
        },
        "1b43803b54c94cbb9dbe5039d957ab8f": {
          "model_module": "@jupyter-widgets/base",
          "model_name": "LayoutModel",
          "state": {
            "_view_name": "LayoutView",
            "grid_template_rows": null,
            "right": null,
            "justify_content": null,
            "_view_module": "@jupyter-widgets/base",
            "overflow": null,
            "_model_module_version": "1.2.0",
            "_view_count": null,
            "flex_flow": null,
            "width": null,
            "min_width": null,
            "border": null,
            "align_items": null,
            "bottom": null,
            "_model_module": "@jupyter-widgets/base",
            "top": null,
            "grid_column": null,
            "overflow_y": null,
            "overflow_x": null,
            "grid_auto_flow": null,
            "grid_area": null,
            "grid_template_columns": null,
            "flex": null,
            "_model_name": "LayoutModel",
            "justify_items": null,
            "grid_row": null,
            "max_height": null,
            "align_content": null,
            "visibility": null,
            "align_self": null,
            "height": null,
            "min_height": null,
            "padding": null,
            "grid_auto_rows": null,
            "grid_gap": null,
            "max_width": null,
            "order": null,
            "_view_module_version": "1.2.0",
            "grid_template_areas": null,
            "object_position": null,
            "object_fit": null,
            "grid_auto_columns": null,
            "margin": null,
            "display": null,
            "left": null
          }
        },
        "694c0dd608f844559abdaddd7bb2eada": {
          "model_module": "@jupyter-widgets/controls",
          "model_name": "FloatProgressModel",
          "state": {
            "_view_name": "ProgressView",
            "style": "IPY_MODEL_fcf06261b318453aa3107fa5fe64c88d",
            "_dom_classes": [],
            "description": "100%",
            "_model_name": "FloatProgressModel",
            "bar_style": "success",
            "max": 1000000,
            "_view_module": "@jupyter-widgets/controls",
            "_model_module_version": "1.5.0",
            "value": 1000000,
            "_view_count": null,
            "_view_module_version": "1.5.0",
            "orientation": "horizontal",
            "min": 0,
            "description_tooltip": null,
            "_model_module": "@jupyter-widgets/controls",
            "layout": "IPY_MODEL_2903af65319f464a8e1b80a19fe7303d"
          }
        },
        "6543b0f6b2554cf69e2ff3e89231dbf0": {
          "model_module": "@jupyter-widgets/controls",
          "model_name": "HTMLModel",
          "state": {
            "_view_name": "HTMLView",
            "style": "IPY_MODEL_4a0894d32de143e9870f090a6eee9daa",
            "_dom_classes": [],
            "description": "",
            "_model_name": "HTMLModel",
            "placeholder": "​",
            "_view_module": "@jupyter-widgets/controls",
            "_model_module_version": "1.5.0",
            "value": " 1000000/1000000 [10:29&lt;00:00, 1589.61it/s]",
            "_view_count": null,
            "_view_module_version": "1.5.0",
            "description_tooltip": null,
            "_model_module": "@jupyter-widgets/controls",
            "layout": "IPY_MODEL_5dad892f0e02438fa6ba9e4b66029033"
          }
        },
        "fcf06261b318453aa3107fa5fe64c88d": {
          "model_module": "@jupyter-widgets/controls",
          "model_name": "ProgressStyleModel",
          "state": {
            "_view_name": "StyleView",
            "_model_name": "ProgressStyleModel",
            "description_width": "initial",
            "_view_module": "@jupyter-widgets/base",
            "_model_module_version": "1.5.0",
            "_view_count": null,
            "_view_module_version": "1.2.0",
            "bar_color": null,
            "_model_module": "@jupyter-widgets/controls"
          }
        },
        "2903af65319f464a8e1b80a19fe7303d": {
          "model_module": "@jupyter-widgets/base",
          "model_name": "LayoutModel",
          "state": {
            "_view_name": "LayoutView",
            "grid_template_rows": null,
            "right": null,
            "justify_content": null,
            "_view_module": "@jupyter-widgets/base",
            "overflow": null,
            "_model_module_version": "1.2.0",
            "_view_count": null,
            "flex_flow": null,
            "width": null,
            "min_width": null,
            "border": null,
            "align_items": null,
            "bottom": null,
            "_model_module": "@jupyter-widgets/base",
            "top": null,
            "grid_column": null,
            "overflow_y": null,
            "overflow_x": null,
            "grid_auto_flow": null,
            "grid_area": null,
            "grid_template_columns": null,
            "flex": null,
            "_model_name": "LayoutModel",
            "justify_items": null,
            "grid_row": null,
            "max_height": null,
            "align_content": null,
            "visibility": null,
            "align_self": null,
            "height": null,
            "min_height": null,
            "padding": null,
            "grid_auto_rows": null,
            "grid_gap": null,
            "max_width": null,
            "order": null,
            "_view_module_version": "1.2.0",
            "grid_template_areas": null,
            "object_position": null,
            "object_fit": null,
            "grid_auto_columns": null,
            "margin": null,
            "display": null,
            "left": null
          }
        },
        "4a0894d32de143e9870f090a6eee9daa": {
          "model_module": "@jupyter-widgets/controls",
          "model_name": "DescriptionStyleModel",
          "state": {
            "_view_name": "StyleView",
            "_model_name": "DescriptionStyleModel",
            "description_width": "",
            "_view_module": "@jupyter-widgets/base",
            "_model_module_version": "1.5.0",
            "_view_count": null,
            "_view_module_version": "1.2.0",
            "_model_module": "@jupyter-widgets/controls"
          }
        },
        "5dad892f0e02438fa6ba9e4b66029033": {
          "model_module": "@jupyter-widgets/base",
          "model_name": "LayoutModel",
          "state": {
            "_view_name": "LayoutView",
            "grid_template_rows": null,
            "right": null,
            "justify_content": null,
            "_view_module": "@jupyter-widgets/base",
            "overflow": null,
            "_model_module_version": "1.2.0",
            "_view_count": null,
            "flex_flow": null,
            "width": null,
            "min_width": null,
            "border": null,
            "align_items": null,
            "bottom": null,
            "_model_module": "@jupyter-widgets/base",
            "top": null,
            "grid_column": null,
            "overflow_y": null,
            "overflow_x": null,
            "grid_auto_flow": null,
            "grid_area": null,
            "grid_template_columns": null,
            "flex": null,
            "_model_name": "LayoutModel",
            "justify_items": null,
            "grid_row": null,
            "max_height": null,
            "align_content": null,
            "visibility": null,
            "align_self": null,
            "height": null,
            "min_height": null,
            "padding": null,
            "grid_auto_rows": null,
            "grid_gap": null,
            "max_width": null,
            "order": null,
            "_view_module_version": "1.2.0",
            "grid_template_areas": null,
            "object_position": null,
            "object_fit": null,
            "grid_auto_columns": null,
            "margin": null,
            "display": null,
            "left": null
          }
        }
      }
    }
  },
  "cells": [
    {
      "cell_type": "code",
      "metadata": {
        "id": "MAcqqhNcxauA",
        "outputId": "8716a627-2f77-4df9-cfd7-72a64c3a0f87",
        "colab": {
          "base_uri": "https://localhost:8080/"
        }
      },
      "source": [
        "import gym\n",
        "\n",
        "import matplotlib as mpl\n",
        "import matplotlib.pyplot as plt\n",
        "import seaborn as sns\n",
        "import json\n",
        "import numpy as np\n",
        "import scipy as sp\n",
        "import scipy.stats as st\n",
        "import scipy.integrate as integrate\n",
        "from scipy.stats import multivariate_normal\n",
        "from sklearn import linear_model\n",
        "from sklearn.utils.testing import ignore_warnings\n",
        "from sklearn.exceptions import ConvergenceWarning\n",
        "import statsmodels.api as sm\n",
        "from matplotlib.colors import LogNorm\n",
        "from tqdm import tqdm_notebook\n",
        "from collections import defaultdict\n",
        "sns.set_style(\"whitegrid\")\n",
        "sns.set_palette(\"colorblind\")\n",
        "palette = sns.color_palette()\n",
        "figsize = (15,8)\n",
        "legend_fontsize = 16"
      ],
      "execution_count": null,
      "outputs": [
        {
          "output_type": "stream",
          "text": [
            "/usr/local/lib/python3.6/dist-packages/sklearn/utils/deprecation.py:144: FutureWarning: The sklearn.utils.testing module is  deprecated in version 0.22 and will be removed in version 0.24. The corresponding classes / functions should instead be imported from sklearn.utils. Anything that cannot be imported from sklearn.utils is now part of the private API.\n",
            "  warnings.warn(message, FutureWarning)\n",
            "/usr/local/lib/python3.6/dist-packages/statsmodels/tools/_testing.py:19: FutureWarning: pandas.util.testing is deprecated. Use the functions in the public API at pandas.testing instead.\n",
            "  import pandas.util.testing as tm\n"
          ],
          "name": "stderr"
        }
      ]
    },
    {
      "cell_type": "markdown",
      "metadata": {
        "id": "yiQf9OUTAWon"
      },
      "source": [
        "# Blackjack Env"
      ]
    },
    {
      "cell_type": "code",
      "metadata": {
        "id": "PfgbDpMDATz1"
      },
      "source": [
        "import gym\n",
        "from gym import spaces\n",
        "from gym.utils import seeding\n",
        "\n",
        "def cmp(a, b):\n",
        "    return float(a > b) - float(a < b)\n",
        "\n",
        "# 1 = Ace, 2-10 = Number cards, Jack/Queen/King = 10\n",
        "deck = [1, 2, 3, 4, 5, 6, 7, 8, 9, 10, 10, 10, 10]\n",
        "\n",
        "\n",
        "def draw_card(np_random):\n",
        "    return int(np_random.choice(deck))\n",
        "\n",
        "\n",
        "def draw_hand(np_random):\n",
        "    return [draw_card(np_random), draw_card(np_random)]\n",
        "\n",
        "\n",
        "def usable_ace(hand):  # Does this hand have a usable ace?\n",
        "    return 1 in hand and sum(hand) + 10 <= 21\n",
        "\n",
        "\n",
        "def sum_hand(hand):  # Return current hand total\n",
        "    if usable_ace(hand):\n",
        "        return sum(hand) + 10\n",
        "    return sum(hand)\n",
        "\n",
        "\n",
        "def is_bust(hand):  # Is this hand a bust?\n",
        "    return sum_hand(hand) > 21\n",
        "\n",
        "\n",
        "def score(hand):  # What is the score of this hand (0 if bust)\n",
        "    return 0 if is_bust(hand) else sum_hand(hand)\n",
        "\n",
        "\n",
        "def is_natural(hand):  # Is this hand a natural blackjack?\n",
        "    return sorted(hand) == [1, 10]\n",
        "\n",
        "\n",
        "class BlackjackEnv(gym.Env):\n",
        "    \"\"\"Simple blackjack environment\n",
        "    Blackjack is a card game where the goal is to obtain cards that sum to as\n",
        "    near as possible to 21 without going over.  They're playing against a fixed\n",
        "    dealer.\n",
        "    Face cards (Jack, Queen, King) have point value 10.\n",
        "    Aces can either count as 11 or 1, and it's called 'usable' at 11.\n",
        "    This game is placed with an infinite deck (or with replacement).\n",
        "    The game starts with dealer having one face up and one face down card, while\n",
        "    player having two face up cards. (Virtually for all Blackjack games today).\n",
        "    The player can request additional cards (hit=1) until they decide to stop\n",
        "    (stick=0) or exceed 21 (bust).\n",
        "    After the player sticks, the dealer reveals their facedown card, and draws\n",
        "    until their sum is 17 or greater.  If the dealer goes bust the player wins.\n",
        "    If neither player nor dealer busts, the outcome (win, lose, draw) is\n",
        "    decided by whose sum is closer to 21.  The reward for winning is +1,\n",
        "    drawing is 0, and losing is -1.\n",
        "    The observation of a 3-tuple of: the players current sum,\n",
        "    the dealer's one showing card (1-10 where 1 is ace),\n",
        "    and whether or not the player holds a usable ace (0 or 1).\n",
        "    This environment corresponds to the version of the blackjack problem\n",
        "    described in Example 5.1 in Reinforcement Learning: An Introduction\n",
        "    by Sutton and Barto.\n",
        "    http://incompleteideas.net/book/the-book-2nd.html\n",
        "    \"\"\"\n",
        "    def __init__(self, natural=False):\n",
        "        self.action_space = spaces.Discrete(2)\n",
        "        self.observation_space = spaces.Tuple((\n",
        "            spaces.Discrete(32),\n",
        "            spaces.Discrete(11),\n",
        "            spaces.Discrete(2)))\n",
        "        self.seed()\n",
        "\n",
        "        # Flag to payout 1.5 on a \"natural\" blackjack win, like casino rules\n",
        "        # Ref: http://www.bicyclecards.com/how-to-play/blackjack/\n",
        "        self.natural = natural\n",
        "        # Start the first game\n",
        "        self.reset()\n",
        "\n",
        "    def seed(self, seed=None):\n",
        "        self.np_random, seed = seeding.np_random(seed)\n",
        "        return [seed]\n",
        "\n",
        "    def step(self, action):\n",
        "        assert self.action_space.contains(action)\n",
        "        if action:  # hit: add a card to players hand and return\n",
        "            self.player.append(draw_card(self.np_random))\n",
        "            if is_bust(self.player):\n",
        "                done = True\n",
        "                reward = -1.\n",
        "            else:\n",
        "                done = False\n",
        "                reward = 0.\n",
        "        else:  # stick: play out the dealers hand, and score\n",
        "            done = True\n",
        "            while sum_hand(self.dealer) < 17:\n",
        "                self.dealer.append(draw_card(self.np_random))\n",
        "            reward = cmp(score(self.player), score(self.dealer))\n",
        "            if self.natural and is_natural(self.player) and reward == 1.:\n",
        "                reward = 1.5\n",
        "        return self._get_obs(), reward, done, {}\n",
        "\n",
        "    def _get_obs(self):\n",
        "        return (sum_hand(self.player), self.dealer[0], usable_ace(self.player))\n",
        "\n",
        "    def reset(self):\n",
        "        self.dealer = draw_hand(self.np_random)\n",
        "        self.player = draw_hand(self.np_random)\n",
        "        return self._get_obs()"
      ],
      "execution_count": null,
      "outputs": []
    },
    {
      "cell_type": "markdown",
      "metadata": {
        "id": "-E3zXrstAZu0"
      },
      "source": [
        "# Monte Carlo Blackjack Gain Estimation of simple strategy (First visit)"
      ]
    },
    {
      "cell_type": "code",
      "metadata": {
        "id": "-wwMSC35Do-K"
      },
      "source": [
        "def play_episode(env):\n",
        "    \"\"\"\n",
        "    Plays a single episode with a set policy in the environment given. Records the state, action \n",
        "    and reward for each step and returns the all timesteps for the episode.\n",
        "    \"\"\"\n",
        "    episode = []\n",
        "    state = env.reset()\n",
        "    while True:\n",
        "        action = 0 if sum_hand(env.player) in [19, 20, 21] else 1\n",
        "        next_state, reward, done, info = env.step(action)\n",
        "        episode.append((state, action, reward))\n",
        "        state = next_state\n",
        "        if done:\n",
        "            break\n",
        "    return episode"
      ],
      "execution_count": null,
      "outputs": []
    },
    {
      "cell_type": "code",
      "metadata": {
        "id": "vLmy3IzfNp0F",
        "outputId": "4a775a2a-da15-4b81-b41d-d7f2076b51d6",
        "colab": {
          "base_uri": "https://localhost:8080/",
          "height": 134,
          "referenced_widgets": [
            "e80966575f604c6580f35f7c4d8b37fd",
            "4cb3cde1abb54db29cffc13e246831ef",
            "aa43d57a48cd4b0f9bcbb832cf2f7dee",
            "2e85edbef1ac4b18b053f7d07dcda814",
            "1d2ec16e599f4369afb663ecf2747960",
            "3ec4ad0f34814826a4c4ff6f2d2defd9",
            "919c971dda4a400891d286eda96a068b",
            "8f34875104e946cb98f7766af3219347"
          ]
        }
      },
      "source": [
        "env = BlackjackEnv(natural=True)\n",
        "gain = 0\n",
        "total_episodes = 100000\n",
        "for _ in tqdm_notebook(range(total_episodes)):\n",
        "  episode = play_episode(env)\n",
        "  gain += episode[-1][-1]\n",
        "print(gain / total_episodes)"
      ],
      "execution_count": null,
      "outputs": [
        {
          "output_type": "stream",
          "text": [
            "/usr/local/lib/python3.6/dist-packages/ipykernel_launcher.py:4: TqdmDeprecationWarning: This function will be removed in tqdm==5.0.0\n",
            "Please use `tqdm.notebook.tqdm` instead of `tqdm.tqdm_notebook`\n",
            "  after removing the cwd from sys.path.\n"
          ],
          "name": "stderr"
        },
        {
          "output_type": "display_data",
          "data": {
            "application/vnd.jupyter.widget-view+json": {
              "model_id": "e80966575f604c6580f35f7c4d8b37fd",
              "version_minor": 0,
              "version_major": 2
            },
            "text/plain": [
              "HBox(children=(FloatProgress(value=0.0, max=100000.0), HTML(value='')))"
            ]
          },
          "metadata": {
            "tags": []
          }
        },
        {
          "output_type": "stream",
          "text": [
            "\n",
            "-0.182815\n"
          ],
          "name": "stdout"
        }
      ]
    },
    {
      "cell_type": "markdown",
      "metadata": {
        "id": "BwN5skp9OH1Z"
      },
      "source": [
        "# Q-learning"
      ]
    },
    {
      "cell_type": "code",
      "metadata": {
        "id": "QSXZFcS6GIZX"
      },
      "source": [
        "def find_best_a_for_s_by_Q(Q, s):\n",
        "  return np.argmax(Q[s])\n",
        "\n",
        "def Q_learning_episode(env, Q, alpha=0.05, epsilon=0.0, gamma=0.9):\n",
        "    env.reset()\n",
        "    s = env._get_obs()[:-1]\n",
        "    a = find_best_a_for_s_by_Q(Q, s) if np.random.rand() > epsilon else np.random.randint(env.action_space.n)\n",
        "    while(1):\n",
        "        observation, reward, done, info = env.step(a)\n",
        "        if done:\n",
        "            Q[s][a] = Q[s][a] + alpha * (reward - Q[s][a])  \n",
        "            break\n",
        "        s_prime = observation[:-1]\n",
        "        a_prime = find_best_a_for_s_by_Q(Q, s_prime) if np.random.rand() > epsilon else np.random.randint(env.action_space.n)\n",
        "        Q[s][a] = Q[s][a] + alpha * (reward + gamma * np.max( Q[s_prime] ) - Q[s][a])\n",
        "        s, a = s_prime, a_prime\n",
        "        \n",
        "def test_strategy(env, Q):\n",
        "  env.reset()\n",
        "  s = env._get_obs()[:-1]\n",
        "  a = np.argmax(Q[s])\n",
        "  while(1):\n",
        "    observations, reward, done, _ = env.step(a)\n",
        "    s = observations[:-1]\n",
        "    a = np.argmax(Q[s])\n",
        "    if done:\n",
        "      break\n",
        "  return reward"
      ],
      "execution_count": null,
      "outputs": []
    },
    {
      "cell_type": "markdown",
      "metadata": {
        "id": "Yf1bAJqdF_h2"
      },
      "source": [
        "## Base Blackjack"
      ]
    },
    {
      "cell_type": "code",
      "metadata": {
        "id": "U04Fn1DaVGUU",
        "outputId": "49390de2-79a3-421d-ee92-6e34044293a7",
        "colab": {
          "base_uri": "https://localhost:8080/",
          "height": 268,
          "referenced_widgets": [
            "1adf9b74b6ca445c99ab155e662a1d44",
            "1c297dd9490a4825a9bd21e1c68cf8ff",
            "8c123cbda236416d99a9d2bb6cc5c6f4",
            "f77ab3dc5b1445a693cda27805b4e587",
            "568d45bab7b74111a2cb7beade1bdfcc",
            "5232107e989340329e2d7721f530a0b3",
            "c8c0ef036c554cabb1e41472dedb487c",
            "fa24e093c8314aceb8236ac09b41b1f6",
            "0e5a6f381e874607b1127c8537a261d5",
            "40436d28196d42c7b6b5b1485997a2b6",
            "e956bfe6849d424ba456123165ddc567",
            "e0f75fc73eca4e7eae1156c30a321f3a",
            "5874549fafa448fdae30a1506bb8f25d",
            "1bf50345b63348a185922a0e513861df",
            "5fa02a19ccdf44f5a3523d4e8e9427fa",
            "13582ac0949842df8d20c2cd097944a0",
            "fc2f18c0bf6d4fe6869864f20d5f82ee",
            "279b594752c542b0a30ebf3627e8f23a",
            "cd0ce6cc278341a089c4dd02331f2053",
            "1ce3b9e47eac4cd98291ace4b816d9f1",
            "834a2602e5a244cebb79415b7a0c5f43",
            "4df26d0ca242457bb4055a1daa1bcafd",
            "8e80ae7c02114e69b907b57412cb0216",
            "7f28745bd0304277a241c6c2829675fe",
            "67209c8178b644eb9d06331746f52a3b",
            "432c4f6bd10f47cb93bf735d5f94fd2b",
            "8be57416d0814e0ba1d98bcc1216170e",
            "67a569018344405d879972bb1f274de2",
            "5e3c510223114c7a9394ef569b6bd01f",
            "cb93f1fb2e144e56b7cbe3394fb8ba3f",
            "cbb9f047bb2f49abb518bd3a8b53c0ae",
            "9234a9e1ca6141e588b7bf755b70cf00"
          ]
        }
      },
      "source": [
        "total_episodes = 1000000\n",
        "total_episodes_test = 100000\n",
        "avg_rewards = {}\n",
        "env = BlackjackEnv(natural=True)\n",
        "epsilon = np.linspace(0, 0.4, 4)\n",
        "\n",
        "for eps in epsilon:\n",
        "  Q = defaultdict(lambda: np.random.random(env.action_space.n))\n",
        "  Q_rewards = []\n",
        "  for i in tqdm_notebook(range(total_episodes)):\n",
        "    Q_learning_episode(env, Q, epsilon=eps, alpha=0.2)\n",
        "    if i % 100000 == 0:\n",
        "      reward = 0.\n",
        "      for _ in range(total_episodes_test):\n",
        "        reward += test_strategy(env, Q)\n",
        "      Q_rewards.append(reward / total_episodes_test)\n",
        "  reward = 0.\n",
        "  for _ in range(total_episodes_test):\n",
        "        reward += test_strategy(env, Q)\n",
        "  Q_rewards.append(reward / total_episodes_test)\n",
        "  avg_rewards[str(eps)] = Q_rewards"
      ],
      "execution_count": null,
      "outputs": [
        {
          "output_type": "stream",
          "text": [
            "/usr/local/lib/python3.6/dist-packages/ipykernel_launcher.py:10: TqdmDeprecationWarning: This function will be removed in tqdm==5.0.0\n",
            "Please use `tqdm.notebook.tqdm` instead of `tqdm.tqdm_notebook`\n",
            "  # Remove the CWD from sys.path while we load stuff.\n"
          ],
          "name": "stderr"
        },
        {
          "output_type": "display_data",
          "data": {
            "application/vnd.jupyter.widget-view+json": {
              "model_id": "1adf9b74b6ca445c99ab155e662a1d44",
              "version_minor": 0,
              "version_major": 2
            },
            "text/plain": [
              "HBox(children=(FloatProgress(value=0.0, max=1000000.0), HTML(value='')))"
            ]
          },
          "metadata": {
            "tags": []
          }
        },
        {
          "output_type": "stream",
          "text": [
            "\n"
          ],
          "name": "stdout"
        },
        {
          "output_type": "display_data",
          "data": {
            "application/vnd.jupyter.widget-view+json": {
              "model_id": "0e5a6f381e874607b1127c8537a261d5",
              "version_minor": 0,
              "version_major": 2
            },
            "text/plain": [
              "HBox(children=(FloatProgress(value=0.0, max=1000000.0), HTML(value='')))"
            ]
          },
          "metadata": {
            "tags": []
          }
        },
        {
          "output_type": "stream",
          "text": [
            "\n"
          ],
          "name": "stdout"
        },
        {
          "output_type": "display_data",
          "data": {
            "application/vnd.jupyter.widget-view+json": {
              "model_id": "fc2f18c0bf6d4fe6869864f20d5f82ee",
              "version_minor": 0,
              "version_major": 2
            },
            "text/plain": [
              "HBox(children=(FloatProgress(value=0.0, max=1000000.0), HTML(value='')))"
            ]
          },
          "metadata": {
            "tags": []
          }
        },
        {
          "output_type": "stream",
          "text": [
            "\n"
          ],
          "name": "stdout"
        },
        {
          "output_type": "display_data",
          "data": {
            "application/vnd.jupyter.widget-view+json": {
              "model_id": "67209c8178b644eb9d06331746f52a3b",
              "version_minor": 0,
              "version_major": 2
            },
            "text/plain": [
              "HBox(children=(FloatProgress(value=0.0, max=1000000.0), HTML(value='')))"
            ]
          },
          "metadata": {
            "tags": []
          }
        },
        {
          "output_type": "stream",
          "text": [
            "\n"
          ],
          "name": "stdout"
        }
      ]
    },
    {
      "cell_type": "code",
      "metadata": {
        "id": "bv33CORHYR-L",
        "outputId": "9317c84c-eece-458d-f919-c0758c9670a1",
        "colab": {
          "base_uri": "https://localhost:8080/",
          "height": 434
        }
      },
      "source": [
        "fig = plt.figure(figsize=(12, 6))\n",
        "for eps in avg_rewards.keys():\n",
        "  plt.plot(range(len(avg_rewards[eps])), avg_rewards[eps], label=f\"Eps={eps}\")\n",
        "plt.suptitle(\"Reward from Q-learning\", color='white')\n",
        "plt.ylim((-0.4, 0))\n",
        "plt.legend()"
      ],
      "execution_count": null,
      "outputs": [
        {
          "output_type": "execute_result",
          "data": {
            "text/plain": [
              "<matplotlib.legend.Legend at 0x7f690d4dd8d0>"
            ]
          },
          "metadata": {
            "tags": []
          },
          "execution_count": 9
        },
        {
          "output_type": "display_data",
          "data": {
            "image/png": "[encoded data removed]",
            "text/plain": [
              "<Figure size 864x432 with 1 Axes>"
            ]
          },
          "metadata": {
            "tags": [],
            "needs_background": "light"
          }
        }
      ]
    },
    {
      "cell_type": "markdown",
      "metadata": {
        "id": "jGMBjo89Y8Xm"
      },
      "source": [
        "## Double Blackjack"
      ]
    },
    {
      "cell_type": "code",
      "metadata": {
        "id": "jAUU5Oj1YCNm"
      },
      "source": [
        "import gym\n",
        "from gym import spaces\n",
        "from gym.utils import seeding\n",
        "\n",
        "def cmp(a, b):\n",
        "    return float(a > b) - float(a < b)\n",
        "\n",
        "# 1 = Ace, 2-10 = Number cards, Jack/Queen/King = 10\n",
        "deck = [1, 2, 3, 4, 5, 6, 7, 8, 9, 10, 10, 10, 10]\n",
        "\n",
        "\n",
        "def draw_card(np_random):\n",
        "    return int(np_random.choice(deck))\n",
        "\n",
        "\n",
        "def draw_hand(np_random):\n",
        "    return [draw_card(np_random), draw_card(np_random)]\n",
        "\n",
        "\n",
        "def usable_ace(hand):  # Does this hand have a usable ace?\n",
        "    return 1 in hand and sum(hand) + 10 <= 21\n",
        "\n",
        "\n",
        "def sum_hand(hand):  # Return current hand total\n",
        "    if usable_ace(hand):\n",
        "        return sum(hand) + 10\n",
        "    return sum(hand)\n",
        "\n",
        "\n",
        "def is_bust(hand):  # Is this hand a bust?\n",
        "    return sum_hand(hand) > 21\n",
        "\n",
        "\n",
        "def score(hand):  # What is the score of this hand (0 if bust)\n",
        "    return 0 if is_bust(hand) else sum_hand(hand)\n",
        "\n",
        "\n",
        "def is_natural(hand):  # Is this hand a natural blackjack?\n",
        "    return sorted(hand) == [1, 10]\n",
        "\n",
        "\n",
        "class BlackjackEnvDouble(gym.Env):\n",
        "    \"\"\"Simple blackjack environment\n",
        "    Blackjack is a card game where the goal is to obtain cards that sum to as\n",
        "    near as possible to 21 without going over.  They're playing against a fixed\n",
        "    dealer.\n",
        "    Face cards (Jack, Queen, King) have point value 10.\n",
        "    Aces can either count as 11 or 1, and it's called 'usable' at 11.\n",
        "    This game is placed with an infinite deck (or with replacement).\n",
        "    The game starts with dealer having one face up and one face down card, while\n",
        "    player having two face up cards. (Virtually for all Blackjack games today).\n",
        "    The player can request additional cards (hit=1) until they decide to stop\n",
        "    (stick=0) or exceed 21 (bust).\n",
        "    After the player sticks, the dealer reveals their facedown card, and draws\n",
        "    until their sum is 17 or greater.  If the dealer goes bust the player wins.\n",
        "    If neither player nor dealer busts, the outcome (win, lose, draw) is\n",
        "    decided by whose sum is closer to 21.  The reward for winning is +1,\n",
        "    drawing is 0, and losing is -1.\n",
        "    The observation of a 3-tuple of: the players current sum,\n",
        "    the dealer's one showing card (1-10 where 1 is ace),\n",
        "    and whether or not the player holds a usable ace (0 or 1).\n",
        "    This environment corresponds to the version of the blackjack problem\n",
        "    described in Example 5.1 in Reinforcement Learning: An Introduction\n",
        "    by Sutton and Barto.\n",
        "    http://incompleteideas.net/book/the-book-2nd.html\n",
        "    \"\"\"\n",
        "    def __init__(self, natural=False):\n",
        "        self.action_space = spaces.Discrete(3)\n",
        "        self.observation_space = spaces.Tuple((\n",
        "            spaces.Discrete(32),\n",
        "            spaces.Discrete(11),\n",
        "            spaces.Discrete(2)))\n",
        "        self.seed()\n",
        "\n",
        "        # Flag to payout 1.5 on a \"natural\" blackjack win, like casino rules\n",
        "        # Ref: http://www.bicyclecards.com/how-to-play/blackjack/\n",
        "        self.natural = natural\n",
        "        # Start the first game\n",
        "        self.reset()\n",
        "\n",
        "    def seed(self, seed=None):\n",
        "        self.np_random, seed = seeding.np_random(seed)\n",
        "        return [seed]\n",
        "\n",
        "    def step(self, action):\n",
        "        assert self.action_space.contains(action)\n",
        "        if action == 1:  # hit: add a card to players hand and return\n",
        "            self.player.append(draw_card(self.np_random))\n",
        "            if is_bust(self.player):\n",
        "                done = True\n",
        "                reward = -1.\n",
        "            else:\n",
        "                done = False\n",
        "                reward = 0.\n",
        "        elif action == 0:  # stick: play out the dealers hand, and score\n",
        "            done = True\n",
        "            while sum_hand(self.dealer) < 17:\n",
        "                self.dealer.append(draw_card(self.np_random))\n",
        "            reward = cmp(score(self.player), score(self.dealer))\n",
        "            if self.natural and is_natural(self.player) and reward == 1.:\n",
        "                reward = 1.5\n",
        "        else:\n",
        "          done = True\n",
        "          self.player.append(draw_card(self.np_random))\n",
        "          while sum_hand(self.dealer) < 17:\n",
        "                self.dealer.append(draw_card(self.np_random))\n",
        "          reward = cmp(score(self.player), score(self.dealer))\n",
        "          if self.natural and is_natural(self.player) and reward == 1.:\n",
        "              reward = 1.5\n",
        "          reward *= 2\n",
        "        return self._get_obs(), reward, done, {}\n",
        "\n",
        "    def _get_obs(self):\n",
        "        return (sum_hand(self.player), self.dealer[0], usable_ace(self.player))\n",
        "\n",
        "    def reset(self):\n",
        "        self.dealer = draw_hand(self.np_random)\n",
        "        self.player = draw_hand(self.np_random)\n",
        "        return self._get_obs()"
      ],
      "execution_count": null,
      "outputs": []
    },
    {
      "cell_type": "code",
      "metadata": {
        "id": "FgOQTjjIa7ud",
        "outputId": "63b356f7-1fc2-47a0-ad38-eb679e21d0ae",
        "colab": {
          "base_uri": "https://localhost:8080/",
          "height": 268,
          "referenced_widgets": [
            "40ab3b3907bd4066bf0cedf2bfc47acf",
            "2604a726227f43e1be817710fd816f06",
            "024eecea82524d298cc7690a031b9cff",
            "8f80117fed5b40c9a93438ee2c0f557e",
            "a84e0c0b5bb5469aa86a8df48ed207cf",
            "cc56de25886646fb97605b5951904707",
            "633a70aff9c34f1f8425f46b0b1a5e3a",
            "ffc54b12d5534a61bea81759651922af",
            "d06497e95529406494b5b8747c976f06",
            "9022ab2cbf04426b9b9620a89be7ddd5",
            "8a9b8c5edcb045e4a7dd5b515d3af7db",
            "85e186244e8944f183590fa4541a2123",
            "4691309014574e2e97916b2a52e7e6f4",
            "b359f098505645a088e0297248a9654b",
            "01df0f6235164ce7ae49de0b6a6b7f37",
            "c8ab2972e1d94cfea62b1c147aea3ea7",
            "325078e4a1bd4d13bfd4f9ac696b16f9",
            "720a051662ca453a8cc06b3d3b74d84c",
            "b3560942a7a6412abcdcfd19b1e44355",
            "18adcb5f410f4ec6afff976b1b762624",
            "86e58c4ee158484289fd674b4dcedcd1",
            "a8658bcd5bd9427ab667169d250bda71",
            "3722671867304187aa9f8610caeeed08",
            "5a3aabefa84d437b87701557517f5ebf",
            "184d3fdb4e604a7fa93be682d6034cce",
            "05d876b500e54c1ab2ed7958ecaadf52",
            "ca3930b8adb4482daac127c324ed5b8e",
            "b5da5be4aff24f8981933bf76c201fa6",
            "3e39c6fbbeb84c56978ad60b97837c18",
            "7c8afbc019f748a6809a54811deb575e",
            "27e0dad5748547f59837011776ce6f64",
            "9bad6c3113a6478286cf722b0622995e"
          ]
        }
      },
      "source": [
        "total_episodes = 1000000\n",
        "total_episodes_test = 100000\n",
        "avg_rewards = {}\n",
        "env = BlackjackEnvDouble(natural=True)\n",
        "epsilon = np.linspace(0, 0.4, 4)\n",
        "for eps in epsilon:\n",
        "  Q = defaultdict(lambda: np.random.random(env.action_space.n))\n",
        "  Q_rewards = []\n",
        "  for i in tqdm_notebook(range(total_episodes)):\n",
        "    Q_learning_episode(env, Q, epsilon=eps, alpha=0.005)\n",
        "    if i % 100000 == 0:\n",
        "      reward = 0.\n",
        "      for _ in range(total_episodes_test):\n",
        "        reward += test_strategy(env, Q)\n",
        "      Q_rewards.append(reward / total_episodes_test)\n",
        "  reward = 0.\n",
        "  for _ in range(total_episodes_test):\n",
        "    reward += test_strategy(env, Q)\n",
        "  Q_rewards.append(reward / total_episodes_test)\n",
        "  avg_rewards[str(eps)] = Q_rewards"
      ],
      "execution_count": null,
      "outputs": [
        {
          "output_type": "stream",
          "text": [
            "/usr/local/lib/python3.6/dist-packages/ipykernel_launcher.py:9: TqdmDeprecationWarning: This function will be removed in tqdm==5.0.0\n",
            "Please use `tqdm.notebook.tqdm` instead of `tqdm.tqdm_notebook`\n",
            "  if __name__ == '__main__':\n"
          ],
          "name": "stderr"
        },
        {
          "output_type": "display_data",
          "data": {
            "application/vnd.jupyter.widget-view+json": {
              "model_id": "40ab3b3907bd4066bf0cedf2bfc47acf",
              "version_minor": 0,
              "version_major": 2
            },
            "text/plain": [
              "HBox(children=(FloatProgress(value=0.0, max=1000000.0), HTML(value='')))"
            ]
          },
          "metadata": {
            "tags": []
          }
        },
        {
          "output_type": "stream",
          "text": [
            "\n"
          ],
          "name": "stdout"
        },
        {
          "output_type": "display_data",
          "data": {
            "application/vnd.jupyter.widget-view+json": {
              "model_id": "d06497e95529406494b5b8747c976f06",
              "version_minor": 0,
              "version_major": 2
            },
            "text/plain": [
              "HBox(children=(FloatProgress(value=0.0, max=1000000.0), HTML(value='')))"
            ]
          },
          "metadata": {
            "tags": []
          }
        },
        {
          "output_type": "stream",
          "text": [
            "\n"
          ],
          "name": "stdout"
        },
        {
          "output_type": "display_data",
          "data": {
            "application/vnd.jupyter.widget-view+json": {
              "model_id": "325078e4a1bd4d13bfd4f9ac696b16f9",
              "version_minor": 0,
              "version_major": 2
            },
            "text/plain": [
              "HBox(children=(FloatProgress(value=0.0, max=1000000.0), HTML(value='')))"
            ]
          },
          "metadata": {
            "tags": []
          }
        },
        {
          "output_type": "stream",
          "text": [
            "\n"
          ],
          "name": "stdout"
        },
        {
          "output_type": "display_data",
          "data": {
            "application/vnd.jupyter.widget-view+json": {
              "model_id": "184d3fdb4e604a7fa93be682d6034cce",
              "version_minor": 0,
              "version_major": 2
            },
            "text/plain": [
              "HBox(children=(FloatProgress(value=0.0, max=1000000.0), HTML(value='')))"
            ]
          },
          "metadata": {
            "tags": []
          }
        },
        {
          "output_type": "stream",
          "text": [
            "\n"
          ],
          "name": "stdout"
        }
      ]
    },
    {
      "cell_type": "code",
      "metadata": {
        "id": "6qT4GD6pa7uh",
        "outputId": "59ce9cdf-2537-4d0e-e935-d2af34c94002",
        "colab": {
          "base_uri": "https://localhost:8080/",
          "height": 434
        }
      },
      "source": [
        "fig = plt.figure(figsize=(12, 6))\n",
        "for eps in avg_rewards.keys():\n",
        "  plt.plot(range(len(avg_rewards[eps])), avg_rewards[eps], label=f\"Eps={eps}\")\n",
        "plt.suptitle(\"Reward from Q-learning\", color='white')\n",
        "plt.ylim((-0.4, 0))\n",
        "plt.legend()"
      ],
      "execution_count": null,
      "outputs": [
        {
          "output_type": "execute_result",
          "data": {
            "text/plain": [
              "<matplotlib.legend.Legend at 0x7f690d39c080>"
            ]
          },
          "metadata": {
            "tags": []
          },
          "execution_count": 13
        },
        {
          "output_type": "display_data",
          "data": {
            "image/png": "[encoded data removed]",
            "text/plain": [
              "<Figure size 864x432 with 1 Axes>"
            ]
          },
          "metadata": {
            "tags": [],
            "needs_background": "light"
          }
        }
      ]
    },
    {
      "cell_type": "code",
      "metadata": {
        "id": "80OehIm9_byc",
        "outputId": "bd7f5719-9901-40c1-abb5-fda6dd67ad64",
        "colab": {
          "base_uri": "https://localhost:8080/",
          "height": 434
        }
      },
      "source": [
        "fig = plt.figure(figsize=(12, 6))\n",
        "for eps in avg_rewards.keys():\n",
        "  plt.plot(range(len(avg_rewards[eps])), avg_rewards[eps], label=f\"Eps={eps}\")\n",
        "plt.suptitle(\"Reward from Q-learning\", color='white')\n",
        "plt.ylim((-0.4, 0))\n",
        "plt.legend()"
      ],
      "execution_count": null,
      "outputs": [
        {
          "output_type": "execute_result",
          "data": {
            "text/plain": [
              "<matplotlib.legend.Legend at 0x7f69054c8e48>"
            ]
          },
          "metadata": {
            "tags": []
          },
          "execution_count": 15
        },
        {
          "output_type": "display_data",
          "data": {
            "image/png": "[encoded data removed]",
            "text/plain": [
              "<Figure size 864x432 with 1 Axes>"
            ]
          },
          "metadata": {
            "tags": [],
            "needs_background": "light"
          }
        }
      ]
    },
    {
      "cell_type": "code",
      "metadata": {
        "id": "hqViFaqTetuw",
        "outputId": "42451b44-1e97-409d-b4bb-f2d7b2c62738",
        "colab": {
          "base_uri": "https://localhost:8080/",
          "height": 434
        }
      },
      "source": [
        "fig = plt.figure(figsize=(12, 6))\n",
        "for eps in avg_rewards.keys():\n",
        "  plt.plot(range(len(avg_rewards[eps])), avg_rewards[eps], label=f\"Eps={eps}\")\n",
        "plt.suptitle(\"Reward from Q-learning\", color='white')\n",
        "plt.ylim((-0.4, 0))\n",
        "plt.legend()"
      ],
      "execution_count": null,
      "outputs": [
        {
          "output_type": "execute_result",
          "data": {
            "text/plain": [
              "<matplotlib.legend.Legend at 0x7f6905474320>"
            ]
          },
          "metadata": {
            "tags": []
          },
          "execution_count": 17
        },
        {
          "output_type": "display_data",
          "data": {
            "image/png": "[encoded data removed]",
            "text/plain": [
              "<Figure size 864x432 with 1 Axes>"
            ]
          },
          "metadata": {
            "tags": [],
            "needs_background": "light"
          }
        }
      ]
    },
    {
      "cell_type": "code",
      "metadata": {
        "id": "qd12cW1uCNhF",
        "outputId": "4261ac96-0358-4a02-a034-602473c541a7",
        "colab": {
          "base_uri": "https://localhost:8080/",
          "height": 434
        }
      },
      "source": [
        "fig = plt.figure(figsize=(12, 6))\n",
        "for eps in avg_rewards.keys():\n",
        "  plt.plot(range(len(avg_rewards[eps])), avg_rewards[eps], label=f\"Eps={eps}\")\n",
        "plt.suptitle(\"Reward from Q-learning\", color='white')\n",
        "plt.ylim((-0.4, 0))\n",
        "plt.legend()"
      ],
      "execution_count": null,
      "outputs": [
        {
          "output_type": "execute_result",
          "data": {
            "text/plain": [
              "<matplotlib.legend.Legend at 0x7f6905398588>"
            ]
          },
          "metadata": {
            "tags": []
          },
          "execution_count": 19
        },
        {
          "output_type": "display_data",
          "data": {
            "image/png": "[encoded data removed]",
            "text/plain": [
              "<Figure size 864x432 with 1 Axes>"
            ]
          },
          "metadata": {
            "tags": [],
            "needs_background": "light"
          }
        }
      ]
    },
    {
      "cell_type": "markdown",
      "metadata": {
        "id": "zUGDB0gQpwJl"
      },
      "source": [
        "## Double Blackjack with cards count"
      ]
    },
    {
      "cell_type": "code",
      "metadata": {
        "id": "svtcic3_p4fM"
      },
      "source": [
        "import gym\n",
        "from gym import spaces\n",
        "from gym.utils import seeding\n",
        "\n",
        "def cmp(a, b):\n",
        "    return float(a > b) - float(a < b)\n",
        "\n",
        "# 1 = Ace, 2-10 = Number cards, Jack/Queen/King = 10\n",
        "\n",
        "\n",
        "def draw_card(np_random, deck):\n",
        "    card = int(np_random.choice(deck))\n",
        "    new_deck = remove_card_from_deck(deck, card)\n",
        "    return card, new_deck\n",
        "\n",
        "def draw_hand(np_random, deck):\n",
        "    card1, new_deck1 = draw_card(np_random, deck)\n",
        "    card2, new_deck2 = draw_card(np_random, new_deck1)\n",
        "    return [card1, card2], new_deck2\n",
        "\n",
        "\n",
        "def usable_ace(hand):  # Does this hand have a usable ace?\n",
        "    return 1 in hand and sum(hand) + 10 <= 21\n",
        "\n",
        "\n",
        "def sum_hand(hand):  # Return current hand total\n",
        "    if usable_ace(hand):\n",
        "        return sum(hand) + 10\n",
        "    return sum(hand)\n",
        "\n",
        "\n",
        "def is_bust(hand):  # Is this hand a bust?\n",
        "    return sum_hand(hand) > 21\n",
        "\n",
        "\n",
        "def score(hand):  # What is the score of this hand (0 if bust)\n",
        "    return 0 if is_bust(hand) else sum_hand(hand)\n",
        "\n",
        "\n",
        "def is_natural(hand):  # Is this hand a natural blackjack?\n",
        "    return sorted(hand) == [1, 10]\n",
        "\n",
        "def shuffle_deck():\n",
        "    return list(np.repeat([1, 2, 3, 4, 5, 6, 7, 8, 9, 10, 10, 10, 10], 4))\n",
        "\n",
        "def remove_card_from_deck(deck, card):\n",
        "    card_index = np.searchsorted(deck, card)\n",
        "    return list(np.delete(deck, card_index))\n",
        "    \n",
        "\n",
        "class BlackjackEnvDoubleCount(gym.Env):\n",
        "    \"\"\"Simple blackjack environment\n",
        "    Blackjack is a card game where the goal is to obtain cards that sum to as\n",
        "    near as possible to 21 without going over.  They're playing against a fixed\n",
        "    dealer.\n",
        "    Face cards (Jack, Queen, King) have point value 10.\n",
        "    Aces can either count as 11 or 1, and it's called 'usable' at 11.\n",
        "    This game is placed with an infinite deck (or with replacement).\n",
        "    The game starts with dealer having one face up and one face down card, while\n",
        "    player having two face up cards. (Virtually for all Blackjack games today).\n",
        "    The player can request additional cards (hit=1) until they decide to stop\n",
        "    (stick=0) or exceed 21 (bust).\n",
        "    After the player sticks, the dealer reveals their facedown card, and draws\n",
        "    until their sum is 17 or greater.  If the dealer goes bust the player wins.\n",
        "    If neither player nor dealer busts, the outcome (win, lose, draw) is\n",
        "    decided by whose sum is closer to 21.  The reward for winning is +1,\n",
        "    drawing is 0, and losing is -1.\n",
        "    The observation of a 3-tuple of: the players current sum,\n",
        "    the dealer's one showing card (1-10 where 1 is ace),\n",
        "    and whether or not the player holds a usable ace (0 or 1).\n",
        "    This environment corresponds to the version of the blackjack problem\n",
        "    described in Example 5.1 in Reinforcement Learning: An Introduction\n",
        "    by Sutton and Barto.\n",
        "    http://incompleteideas.net/book/the-book-2nd.html\n",
        "    \"\"\"\n",
        "    def __init__(self, natural=False):\n",
        "        self.action_space = spaces.Discrete(3)\n",
        "        # self.observation_space = spaces.Tuple((\n",
        "        #     spaces.Discrete(32),\n",
        "        #     spaces.Discrete(11),\n",
        "        #     spaces.Discrete(),\n",
        "        #     spaces.Discrete(2)))\n",
        "        self.seed()\n",
        "        # Flag to payout 1.5 on a \"natural\" blackjack win, like casino rules\n",
        "        # Ref: http://www.bicyclecards.com/how-to-play/blackjack/\n",
        "        self.natural = natural\n",
        "        # Start the first game\n",
        "        # self.reset()\n",
        "        self.count_cards = 0\n",
        "        self.deck = list(np.repeat([1, 2, 3, 4, 5, 6, 7, 8, 9, 10, 10, 10, 10], 4))\n",
        "        self.n_card_in_deck = len(self.deck)\n",
        "        self.cards_to_score = {\n",
        "            1: 0,\n",
        "            2: 1,\n",
        "            3: 1,\n",
        "            4: 2,\n",
        "            5: 2,\n",
        "            6: 2,\n",
        "            7: 1,\n",
        "            8: 0,\n",
        "            9: -1,\n",
        "            10:\t-2\n",
        "        }\n",
        "        # self.cards_to_score = {\n",
        "        #     1: -1,\n",
        "        #     2: 0.5,\n",
        "        #     3: 1,\n",
        "        #     4: 1,\n",
        "        #     5: 1.5,\n",
        "        #     6: 1,\n",
        "        #     7: 0.5,\n",
        "        #     8: 0,\n",
        "        #     9: -0.5,\n",
        "        #     10:\t-1\n",
        "        # }\n",
        "        # self.cards_to_score = {\n",
        "        #     1: -1,\n",
        "        #     2: 1,\n",
        "        #     3: 1,\n",
        "        #     4: 1,\n",
        "        #     5: 1,\n",
        "        #     6: 1,\n",
        "        #     7: 0,\n",
        "        #     8: 0,\n",
        "        #     9: 0,\n",
        "        #     10:\t-1\n",
        "        # }\n",
        "\n",
        "    def seed(self, seed=None):\n",
        "        self.np_random, seed = seeding.np_random(seed)\n",
        "        return [seed]\n",
        "\n",
        "    def step(self, action):\n",
        "        assert self.action_space.contains(action)\n",
        "        if action == 1:  # hit: add a card to players hand and return\n",
        "            new_card, self.deck = draw_card(self.np_random, self.deck)\n",
        "            self.player.append(new_card)\n",
        "            self.n_card_in_deck -= 1\n",
        "            self.count_cards += self.cards_to_score[new_card]\n",
        "            if is_bust(self.player):\n",
        "                done = True\n",
        "                reward = -1.\n",
        "            else:\n",
        "                done = False\n",
        "                reward = 0.\n",
        "        elif action == 0:  # stick: play out the dealers hand, and score\n",
        "            done = True\n",
        "            while sum_hand(self.dealer) < 17:\n",
        "                new_card, self.deck = draw_card(self.np_random, self.deck)\n",
        "                self.dealer.append(new_card)\n",
        "                self.n_card_in_deck -= 1\n",
        "                self.count_cards += self.cards_to_score[new_card]\n",
        "            self.count_cards += self.cards_to_score[self.dealer[1]] # ???\n",
        "            reward = cmp(score(self.player), score(self.dealer))\n",
        "            if self.natural and is_natural(self.player) and reward == 1.:\n",
        "                reward = 1.5\n",
        "        else:\n",
        "          done = True\n",
        "          new_card, self.deck = draw_card(self.np_random, self.deck)\n",
        "          self.player.append(new_card)\n",
        "          self.n_card_in_deck -= 1\n",
        "          self.count_cards += self.cards_to_score[new_card]\n",
        "          while sum_hand(self.dealer) < 17:\n",
        "                new_card, self.deck = draw_card(self.np_random, self.deck)\n",
        "                self.dealer.append(new_card)\n",
        "                self.n_card_in_deck -= 1\n",
        "                self.count_cards += self.cards_to_score[new_card]\n",
        "          self.count_cards += self.cards_to_score[self.dealer[1]]\n",
        "          reward = cmp(score(self.player), score(self.dealer))\n",
        "          if self.natural and is_natural(self.player) and reward == 1.:\n",
        "              reward = 1.5\n",
        "          reward *= 2\n",
        "        return self._get_obs(), reward, done, {}\n",
        "\n",
        "    def _get_obs(self):\n",
        "        return (sum_hand(self.player), self.dealer[0], self.count_cards, usable_ace(self.player))\n",
        "\n",
        "    def reset(self):\n",
        "# Shuffle deck if it's length less than 15      \n",
        "        if self.n_card_in_deck < 15:\n",
        "            self.deck = shuffle_deck()\n",
        "            self.count_cards = 0\n",
        "            self.n_card_in_deck = len(self.deck)\n",
        "        self.player, self.deck = draw_hand(self.np_random, self.deck)\n",
        "        self.dealer, self.deck = draw_hand(self.np_random, self.deck)       \n",
        "        self.n_card_in_deck -= 4\n",
        "# Count cards at reset        \n",
        "        self.count_cards = self.count_cards + (\n",
        "            self.cards_to_score[self.player[0]] + \n",
        "            self.cards_to_score[self.player[1]] + self.cards_to_score[self.dealer[0]])\n",
        "        return self._get_obs()"
      ],
      "execution_count": null,
      "outputs": []
    },
    {
      "cell_type": "code",
      "metadata": {
        "id": "qUoYekXPqPEz",
        "outputId": "3d3158bf-8dea-4bed-9dec-7ea44f83691d",
        "colab": {
          "base_uri": "https://localhost:8080/",
          "height": 117,
          "referenced_widgets": [
            "23a0bb342ae74a9990e0be3fe637e7cc",
            "1b43803b54c94cbb9dbe5039d957ab8f",
            "694c0dd608f844559abdaddd7bb2eada",
            "6543b0f6b2554cf69e2ff3e89231dbf0",
            "fcf06261b318453aa3107fa5fe64c88d",
            "2903af65319f464a8e1b80a19fe7303d",
            "4a0894d32de143e9870f090a6eee9daa",
            "5dad892f0e02438fa6ba9e4b66029033"
          ]
        }
      },
      "source": [
        "total_episodes = 1000000\n",
        "total_episodes_test = 100000\n",
        "avg_rewards = {}\n",
        "env = BlackjackEnvDoubleCount(natural=True)\n",
        "# epsilon = np.linspace(0, 0.4, 4)\n",
        "eps = 0.1\n",
        "Q = defaultdict(lambda: np.random.random(env.action_space.n))\n",
        "Q_rewards = []\n",
        "for i in tqdm_notebook(range(total_episodes)):\n",
        "  Q_learning_episode(env, Q, epsilon=eps, gamma=1, alpha=0.1)\n",
        "  if i % 100000 == 0:\n",
        "    reward = 0.\n",
        "    for _ in range(total_episodes_test):\n",
        "      reward += test_strategy(env, Q)\n",
        "    Q_rewards.append(reward / total_episodes_test)\n",
        "reward = 0.\n",
        "for _ in range(total_episodes_test):\n",
        "  reward += test_strategy(env, Q)\n",
        "Q_rewards.append(reward / total_episodes_test)"
      ],
      "execution_count": null,
      "outputs": [
        {
          "output_type": "stream",
          "text": [
            "/usr/local/lib/python3.6/dist-packages/ipykernel_launcher.py:9: TqdmDeprecationWarning: This function will be removed in tqdm==5.0.0\n",
            "Please use `tqdm.notebook.tqdm` instead of `tqdm.tqdm_notebook`\n",
            "  if __name__ == '__main__':\n"
          ],
          "name": "stderr"
        },
        {
          "output_type": "display_data",
          "data": {
            "application/vnd.jupyter.widget-view+json": {
              "model_id": "23a0bb342ae74a9990e0be3fe637e7cc",
              "version_minor": 0,
              "version_major": 2
            },
            "text/plain": [
              "HBox(children=(FloatProgress(value=0.0, max=1000000.0), HTML(value='')))"
            ]
          },
          "metadata": {
            "tags": []
          }
        },
        {
          "output_type": "stream",
          "text": [
            "\n"
          ],
          "name": "stdout"
        }
      ]
    },
    {
      "cell_type": "code",
      "metadata": {
        "id": "7mMFyHpZ-yYP",
        "outputId": "ba7a6012-bd4d-4e1d-c4d2-d75e4ae3fe8d",
        "colab": {
          "base_uri": "https://localhost:8080/",
          "height": 434
        }
      },
      "source": [
        "fig = plt.figure(figsize=(12, 6))\n",
        "plt.plot(range(len(Q_rewards)), Q_rewards, label=f\"Eps={eps}\")\n",
        "plt.suptitle(f\"Reward from Q-learning, Alpha={0.1}, Gamma={1.0}\", color='white')\n",
        "plt.ylim((-0.4, 0))\n",
        "plt.legend()"
      ],
      "execution_count": null,
      "outputs": [
        {
          "output_type": "execute_result",
          "data": {
            "text/plain": [
              "<matplotlib.legend.Legend at 0x7fc0be4ffb00>"
            ]
          },
          "metadata": {
            "tags": []
          },
          "execution_count": 76
        },
        {
          "output_type": "display_data",
          "data": {
            "image/png": "[encoded data removed]",
            "text/plain": [
              "<Figure size 864x432 with 1 Axes>"
            ]
          },
          "metadata": {
            "tags": [],
            "needs_background": "light"
          }
        }
      ]
    },
    {
      "cell_type": "code",
      "metadata": {
        "id": "bEVzykM7fb2g"
      },
      "source": [
        ""
      ],
      "execution_count": null,
      "outputs": []
    }
  ]
}